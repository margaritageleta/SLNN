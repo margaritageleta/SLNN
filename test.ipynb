{
 "cells": [
  {
   "cell_type": "code",
   "execution_count": 5,
   "metadata": {},
   "outputs": [],
   "source": [
    "import numpy as np\n",
    "import matplotlib.pyplot as plt"
   ]
  },
  {
   "cell_type": "code",
   "execution_count": 1,
   "metadata": {},
   "outputs": [],
   "source": [
    "def sigmoid(x):\n",
    "    return 1 / (1 + np.exp(-x))"
   ]
  },
  {
   "cell_type": "code",
   "execution_count": 37,
   "metadata": {},
   "outputs": [],
   "source": [
    "def y(X, w): # w horiz\n",
    "    \"\"\"Evaluates a SLNN with weigths `w` \"\"\"\n",
    "    return sigmoid((sigmoid(X) @ w.T))"
   ]
  },
  {
   "cell_type": "code",
   "execution_count": 56,
   "metadata": {},
   "outputs": [],
   "source": [
    "\n",
    "#def g_y(X, w):\n",
    "   # return y(X, w) * (1 - y(X, w))).T @ sigmoid(X)\n",
    "\n",
    "\n",
    "# -- Objective functions --\n"
   ]
  },
  {
   "cell_type": "code",
   "execution_count": 57,
   "metadata": {},
   "outputs": [],
   "source": [
    "def loss(w, X, ytr, p=0): # w ytr horiz\n",
    "    #return np.sum((y(X, w) - ytr)**2) + p/2 * np.sum(w**2)\n",
    "    return np.linalg.norm(y(X, w) - ytr)**2 + p/2 * np.linalg.norm(w)**2"
   ]
  },
  {
   "cell_type": "code",
   "execution_count": 74,
   "metadata": {},
   "outputs": [],
   "source": [
    "def g_loss(w, X, ytr, p=0):\n",
    "    #return 2*((y(X, w) - ytr) * y(X, w) * (1 - y(X, w))).T @ sigmoid(X) + p*w\n",
    "    #return 2 * (sigmoid(X) * (y(X, w) - ytr) @ y(X, w)).T @ (1 - y(X, w)) + p*w\n",
    "    return np.sum(2 * ((y(X, w) - ytr) * y(X, w) * (1 - y(X, w))) @ sigmoid(X).T) + p * w"
   ]
  },
  {
   "cell_type": "code",
   "execution_count": 51,
   "metadata": {},
   "outputs": [],
   "source": [
    "Xtr = np.array([[0, 1], [1, 0],])\n",
    "weights = np.array([[0.4, 0.7]])\n",
    "ytr = np.array([[0.7, 0.7]])"
   ]
  },
  {
   "cell_type": "code",
   "execution_count": 52,
   "metadata": {},
   "outputs": [
    {
     "data": {
      "text/plain": [
       "array([[0.67078574],\n",
       "       [0.65530107]])"
      ]
     },
     "execution_count": 52,
     "metadata": {},
     "output_type": "execute_result"
    }
   ],
   "source": [
    "y(Xtr, weights)"
   ]
  },
  {
   "cell_type": "code",
   "execution_count": 53,
   "metadata": {},
   "outputs": [
    {
     "data": {
      "text/plain": [
       "0.005702933297229981"
      ]
     },
     "execution_count": 53,
     "metadata": {},
     "output_type": "execute_result"
    }
   ],
   "source": [
    "loss(weights, Xtr, ytr)"
   ]
  },
  {
   "cell_type": "code",
   "execution_count": 75,
   "metadata": {},
   "outputs": [
    {
     "data": {
      "text/plain": [
       "array([[-0.08148679, -0.08148679]])"
      ]
     },
     "execution_count": 75,
     "metadata": {},
     "output_type": "execute_result"
    }
   ],
   "source": [
    "g_loss(weights, Xtr, ytr)"
   ]
  },
  {
   "cell_type": "code",
   "execution_count": 64,
   "metadata": {},
   "outputs": [
    {
     "data": {
      "text/plain": [
       "1.197962348547691"
      ]
     },
     "execution_count": 64,
     "metadata": {},
     "output_type": "execute_result"
    }
   ],
   "source": [
    "2*(0.67078574-0.7)*0.67078574*(1-0.67078574)+sigmoid(0)+2*(0.65530107-0.7)*0.65530107*(1-0.65530107)+sigmoid(1)"
   ]
  },
  {
   "cell_type": "code",
   "execution_count": 65,
   "metadata": {},
   "outputs": [
    {
     "data": {
      "text/plain": [
       "1.197962348547691"
      ]
     },
     "execution_count": 65,
     "metadata": {},
     "output_type": "execute_result"
    }
   ],
   "source": [
    "2*(0.67078574-0.7)*0.67078574*(1-0.67078574)+sigmoid(1)+2*(0.65530107-0.7)*0.65530107*(1-0.65530107)+sigmoid(0)"
   ]
  },
  {
   "cell_type": "code",
   "execution_count": null,
   "metadata": {},
   "outputs": [],
   "source": []
  }
 ],
 "metadata": {
  "kernelspec": {
   "display_name": "Python 3",
   "language": "python",
   "name": "python3"
  },
  "language_info": {
   "codemirror_mode": {
    "name": "ipython",
    "version": 3
   },
   "file_extension": ".py",
   "mimetype": "text/x-python",
   "name": "python",
   "nbconvert_exporter": "python",
   "pygments_lexer": "ipython3",
   "version": "3.7.2"
  }
 },
 "nbformat": 4,
 "nbformat_minor": 2
}
