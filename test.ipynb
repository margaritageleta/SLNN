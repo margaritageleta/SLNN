{
 "cells": [
  {
   "cell_type": "code",
   "execution_count": 5,
   "metadata": {},
   "outputs": [],
   "source": [
    "import numpy as np\n",
    "import matplotlib.pyplot as plt"
   ]
  },
  {
   "cell_type": "code",
   "execution_count": 1,
   "metadata": {},
   "outputs": [],
   "source": [
    "def sigmoid(x):\n",
    "    return 1 / (1 + np.exp(-x))"
   ]
  },
  {
   "cell_type": "code",
   "execution_count": 37,
   "metadata": {},
   "outputs": [],
   "source": [
    "def y(X, w): # w horiz\n",
    "    \"\"\"Evaluates a SLNN with weigths `w` \"\"\"\n",
    "    return sigmoid((sigmoid(X) @ w.T))"
   ]
  },
  {
   "cell_type": "code",
   "execution_count": 57,
   "metadata": {},
   "outputs": [],
   "source": [
    "def loss(w, X, ytr, p=0): # w ytr horiz\n",
    "    #return np.sum((y(X, w) - ytr)**2) + p/2 * np.sum(w**2)\n",
    "    return np.linalg.norm(y(X, w) - ytr)**2 + p/2 * np.linalg.norm(w)**2"
   ]
  },
  {
   "cell_type": "code",
   "execution_count": 121,
   "metadata": {},
   "outputs": [],
   "source": [
    "def g_loss(w, X, ytr, p=0): \n",
    "    return (2 * sigmoid(X) * ((y(X, w) - ytr) * y(X, w) * (1 - y(X, w))) + p*w).sum(axis=0)"
   ]
  },
  {
   "cell_type": "code",
   "execution_count": 92,
   "metadata": {},
   "outputs": [],
   "source": [
    "Xtr = np.array([[0, 1], [1, 0],])\n",
    "weights = np.array([[0.4, 0.7]])\n",
    "ytr = np.array([[0.7, 0.7]])"
   ]
  },
  {
   "cell_type": "code",
   "execution_count": 52,
   "metadata": {},
   "outputs": [
    {
     "data": {
      "text/plain": [
       "array([[0.67078574],\n",
       "       [0.65530107]])"
      ]
     },
     "execution_count": 52,
     "metadata": {},
     "output_type": "execute_result"
    }
   ],
   "source": [
    "y(Xtr, weights)"
   ]
  },
  {
   "cell_type": "code",
   "execution_count": 53,
   "metadata": {},
   "outputs": [
    {
     "data": {
      "text/plain": [
       "0.005702933297229981"
      ]
     },
     "execution_count": 53,
     "metadata": {},
     "output_type": "execute_result"
    }
   ],
   "source": [
    "loss(weights, Xtr, ytr)"
   ]
  },
  {
   "cell_type": "code",
   "execution_count": 122,
   "metadata": {},
   "outputs": [
    {
     "data": {
      "text/plain": [
       "array([-0.02121395, -0.01952944])"
      ]
     },
     "execution_count": 122,
     "metadata": {},
     "output_type": "execute_result"
    }
   ],
   "source": [
    "g_loss(weights, Xtr, ytr)"
   ]
  },
  {
   "cell_type": "code",
   "execution_count": 111,
   "metadata": {},
   "outputs": [
    {
     "data": {
      "text/plain": [
       "-0.021213957089267137"
      ]
     },
     "execution_count": 111,
     "metadata": {},
     "output_type": "execute_result"
    }
   ],
   "source": [
    "2*(0.67078574-0.7)*0.67078574*(1-0.67078574)*sigmoid(0)+2*(0.65530107-0.7)*0.65530107*(1-0.65530107)*sigmoid(1)"
   ]
  },
  {
   "cell_type": "code",
   "execution_count": 126,
   "metadata": {},
   "outputs": [
    {
     "ename": "SyntaxError",
     "evalue": "invalid syntax (<ipython-input-126-5e2bf04bd252>, line 1)",
     "output_type": "error",
     "traceback": [
      "\u001b[0;36m  File \u001b[0;32m\"<ipython-input-126-5e2bf04bd252>\"\u001b[0;36m, line \u001b[0;32m1\u001b[0m\n\u001b[0;31m    def linesearch2 (f, g, x0, d, alpha_max, c1, c2, max_iter, eps)\u001b[0m\n\u001b[0m                                                                   ^\u001b[0m\n\u001b[0;31mSyntaxError\u001b[0m\u001b[0;31m:\u001b[0m invalid syntax\n"
     ]
    }
   ],
   "source": [
    "def linesearch2 (f, g, x0, d, alpha_max, c1, c2, max_iter, eps)\n",
    "    # Line search algorithm satisfying strong Wolfe conditions\n",
    "    # Algorithms 3.5 on pages 59-60 in Nocedal and Wright\n",
    "    # iout = 1 : too many iterations\n",
    "    # iout = 2 : stacked, alpha_[i]=alpha^[i-1]\n",
    "    alpha_prev = 0\n",
    "    alpha = alpha_0\n",
    "    iout = 0\n",
    "    if c1 == 0: c1 = 1e-4\n",
    "    if c2 == 0: c2 = 0.5\n",
    "    #alphax = alpham*rand(1);\n",
    "    alpha_x = alpha_max;\n",
    "    #[fx0,gx0] = feval(f,x0,d);\n",
    "\n",
    "    fx0 = f(x0);\n",
    "gx0 = g(x0)*d;\n",
    "%>\n",
    "fxp = fx0;\n",
    "gxp = gx0;\n",
    "i=1;\n",
    "% alphap is alpha_{i-1}\n",
    "% alphax is alpha_i\n",
    "while (1 ~= 2 && i < maxiter)\n",
    "  %<fjh\n",
    "    if abs(alphap-alphax) < eps\n",
    "      iout = 2;\n",
    "      alphas = alphax;\n",
    "      return\n",
    "    end\n",
    "  %>\n",
    "    xx = x0 + alphax*d;\n",
    "  %<fjh\n",
    "  %[fxx,gxx] = feval(f,xx,d);\n",
    "    fxx = f(xx);\n",
    "    gxx = g(xx)*d;\n",
    "  %>\n",
    "    if (fxx > fx0 + c1*alphax*gx0) || ((i > 1) && (fxx >= fxp)),\n",
    "    [alphas,iout_zoom] = zoom(f,g,x0,d,alphap,alphax,c1,c2,eps);\n",
    "    %<fjh\n",
    "    if iout_zoom == 2\n",
    "        iout = 2;\n",
    "    end\n",
    "    %>\n",
    "    return;\n",
    "  end\n",
    "  if abs(gxx) <= -c2*gx0,\n",
    "    alphas = alphax;\n",
    "    return;\n",
    "  end\n",
    "  if gxx >= 0,\n",
    "    [alphas,iout_zoom] = zoom(f,g,x0,d,alphax,alphap,c1,c2,eps);\n",
    "    %<fjh\n",
    "    if iout_zoom == 2\n",
    "        iout = 2;\n",
    "    end\n",
    "    %>\n",
    "    return;\n",
    "  end\n",
    "  alphap = alphax;\n",
    "  fxp = fxx;\n",
    "  gxp = gxx;\n",
    "  alphax = alphax + (alpham-alphax)*rand(1);\n",
    "  i = i+1;\n",
    "end\n",
    "if i==maxiter\n",
    "    iout = 1;\n",
    "    alphas = alphax;\n",
    "end\n",
    "return [alphas,iout]"
   ]
  },
  {
   "cell_type": "code",
   "execution_count": 139,
   "metadata": {},
   "outputs": [],
   "source": [
    "from linesearch import *\n",
    "import linesearch as ls"
   ]
  },
  {
   "cell_type": "code",
   "execution_count": 140,
   "metadata": {},
   "outputs": [
    {
     "ename": "TypeError",
     "evalue": "unsupported operand type(s) for *: 'function' and 'int'",
     "output_type": "error",
     "traceback": [
      "\u001b[0;31m---------------------------------------------------------------------------\u001b[0m",
      "\u001b[0;31mTypeError\u001b[0m                                 Traceback (most recent call last)",
      "\u001b[0;32m<ipython-input-140-75bb7cbaaa75>\u001b[0m in \u001b[0;36m<module>\u001b[0;34m\u001b[0m\n\u001b[1;32m      6\u001b[0m \u001b[0md\u001b[0m \u001b[0;34m=\u001b[0m \u001b[0mnp\u001b[0m\u001b[0;34m.\u001b[0m\u001b[0marray\u001b[0m\u001b[0;34m(\u001b[0m\u001b[0;34m[\u001b[0m\u001b[0;34m[\u001b[0m\u001b[0;36m3\u001b[0m\u001b[0;34m,\u001b[0m\u001b[0;34m-\u001b[0m\u001b[0;36m3\u001b[0m\u001b[0;34m]\u001b[0m\u001b[0;34m]\u001b[0m\u001b[0;34m)\u001b[0m\u001b[0;34m.\u001b[0m\u001b[0mT\u001b[0m\u001b[0;34m\u001b[0m\u001b[0;34m\u001b[0m\u001b[0m\n\u001b[1;32m      7\u001b[0m \u001b[0;34m\u001b[0m\u001b[0m\n\u001b[0;32m----> 8\u001b[0;31m \u001b[0mls\u001b[0m\u001b[0;34m.\u001b[0m\u001b[0mline_search_BFGS\u001b[0m\u001b[0;34m(\u001b[0m\u001b[0mf\u001b[0m\u001b[0;34m,\u001b[0m \u001b[0mx\u001b[0m\u001b[0;34m,\u001b[0m \u001b[0md\u001b[0m\u001b[0;34m,\u001b[0m \u001b[0mg\u001b[0m\u001b[0;34m,\u001b[0m \u001b[0mf\u001b[0m\u001b[0;34m(\u001b[0m\u001b[0mx\u001b[0m\u001b[0;34m)\u001b[0m\u001b[0;34m,\u001b[0m \u001b[0margs\u001b[0m\u001b[0;34m=\u001b[0m\u001b[0;34m(\u001b[0m\u001b[0;34m)\u001b[0m\u001b[0;34m,\u001b[0m \u001b[0mc1\u001b[0m\u001b[0;34m=\u001b[0m\u001b[0;36m1e-4\u001b[0m\u001b[0;34m,\u001b[0m \u001b[0malpha0\u001b[0m\u001b[0;34m=\u001b[0m\u001b[0;36m1\u001b[0m\u001b[0;34m)\u001b[0m\u001b[0;34m\u001b[0m\u001b[0;34m\u001b[0m\u001b[0m\n\u001b[0m",
      "\u001b[0;32m~/Documents/GitHub/SLNN/linesearch.py\u001b[0m in \u001b[0;36mline_search_BFGS\u001b[0;34m(f, xk, pk, gfk, old_fval, args, c1, alpha0)\u001b[0m\n\u001b[1;32m    588\u001b[0m     \"\"\"\n\u001b[1;32m    589\u001b[0m     r = line_search_armijo(f, xk, pk, gfk, old_fval, args=args, c1=c1,\n\u001b[0;32m--> 590\u001b[0;31m                            alpha0=alpha0)\n\u001b[0m\u001b[1;32m    591\u001b[0m     \u001b[0;32mreturn\u001b[0m \u001b[0mr\u001b[0m\u001b[0;34m[\u001b[0m\u001b[0;36m0\u001b[0m\u001b[0;34m]\u001b[0m\u001b[0;34m,\u001b[0m \u001b[0mr\u001b[0m\u001b[0;34m[\u001b[0m\u001b[0;36m1\u001b[0m\u001b[0;34m]\u001b[0m\u001b[0;34m,\u001b[0m \u001b[0;36m0\u001b[0m\u001b[0;34m,\u001b[0m \u001b[0mr\u001b[0m\u001b[0;34m[\u001b[0m\u001b[0;36m2\u001b[0m\u001b[0;34m]\u001b[0m\u001b[0;34m\u001b[0m\u001b[0;34m\u001b[0m\u001b[0m\n\u001b[1;32m    592\u001b[0m \u001b[0;34m\u001b[0m\u001b[0m\n",
      "\u001b[0;32m~/Documents/GitHub/SLNN/linesearch.py\u001b[0m in \u001b[0;36mline_search_armijo\u001b[0;34m(f, xk, pk, gfk, old_fval, args, c1, alpha0)\u001b[0m\n\u001b[1;32m    577\u001b[0m         \u001b[0mphi0\u001b[0m \u001b[0;34m=\u001b[0m \u001b[0mold_fval\u001b[0m  \u001b[0;31m# compute f(xk) -- done in past loop\u001b[0m\u001b[0;34m\u001b[0m\u001b[0;34m\u001b[0m\u001b[0m\n\u001b[1;32m    578\u001b[0m \u001b[0;34m\u001b[0m\u001b[0m\n\u001b[0;32m--> 579\u001b[0;31m     \u001b[0mderphi0\u001b[0m \u001b[0;34m=\u001b[0m \u001b[0mnp\u001b[0m\u001b[0;34m.\u001b[0m\u001b[0mdot\u001b[0m\u001b[0;34m(\u001b[0m\u001b[0mgfk\u001b[0m\u001b[0;34m,\u001b[0m \u001b[0mpk\u001b[0m\u001b[0;34m)\u001b[0m\u001b[0;34m\u001b[0m\u001b[0;34m\u001b[0m\u001b[0m\n\u001b[0m\u001b[1;32m    580\u001b[0m     alpha, phi1 = scalar_search_armijo(phi, phi0, derphi0, c1=c1,\n\u001b[1;32m    581\u001b[0m                                        alpha0=alpha0)\n",
      "\u001b[0;31mTypeError\u001b[0m: unsupported operand type(s) for *: 'function' and 'int'"
     ]
    }
   ],
   "source": [
    "def f(x): return x[0]*np.exp(-x[0]**2-x[1]**2)\n",
    "def g(x): return np.array([np.exp(-x[0]**2-x[1]**2)*(1 - 2*x[0]**2),\n",
    "                           np.exp(-x[0]**2-x[1]**2)*(-2*x[0]*x[1])])\n",
    "\n",
    "x = np.array([[-1,1]]).T\n",
    "d = np.array([[3,-3]]).T\n",
    "\n",
    "ls.line_search_BFGS(f, x, d, g, f(x), args=(), c1=1e-4, alpha0=1)"
   ]
  },
  {
   "cell_type": "code",
   "execution_count": null,
   "metadata": {},
   "outputs": [],
   "source": []
  }
 ],
 "metadata": {
  "kernelspec": {
   "display_name": "Python 3",
   "language": "python",
   "name": "python3"
  },
  "language_info": {
   "codemirror_mode": {
    "name": "ipython",
    "version": 3
   },
   "file_extension": ".py",
   "mimetype": "text/x-python",
   "name": "python",
   "nbconvert_exporter": "python",
   "pygments_lexer": "ipython3",
   "version": "3.7.2"
  }
 },
 "nbformat": 4,
 "nbformat_minor": 2
}
