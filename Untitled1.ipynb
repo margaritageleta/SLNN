{
 "cells": [
  {
   "cell_type": "code",
   "execution_count": 1,
   "metadata": {},
   "outputs": [],
   "source": [
    "from main import *\n",
    "import pandas as pd\n",
    "import scipy"
   ]
  },
  {
   "cell_type": "code",
   "execution_count": 2,
   "metadata": {},
   "outputs": [],
   "source": [
    "train, test, ytr, yte = gen_data(123456, 500, [1], 0.5, 0)"
   ]
  },
  {
   "cell_type": "code",
   "execution_count": 3,
   "metadata": {},
   "outputs": [
    {
     "data": {
      "image/png": "[encoded data removed]",
      "text/plain": [
       "<Figure size 432x288 with 1 Axes>"
      ]
     },
     "metadata": {
      "needs_background": "light"
     },
     "output_type": "display_data"
    }
   ],
   "source": [
    "num_show(train[0])"
   ]
  },
  {
   "cell_type": "code",
   "execution_count": 4,
   "metadata": {},
   "outputs": [],
   "source": [
    "from scipy.optimize import line_search"
   ]
  },
  {
   "cell_type": "code",
   "execution_count": null,
   "metadata": {},
   "outputs": [],
   "source": [
    "wt = np.random.normal(size = 35, scale = 0.1)[None, :]"
   ]
  },
  {
   "cell_type": "code",
   "execution_count": null,
   "metadata": {},
   "outputs": [],
   "source": [
    "from scipy.optimize import line_search\n",
    "#from optinpy.optinpy.linesearch import interp23"
   ]
  },
  {
   "cell_type": "code",
   "execution_count": 67,
   "metadata": {},
   "outputs": [],
   "source": [
    "from ls import linesearch\n",
    "def GM(x, f, g, eps, kmax, precision = 6):\n",
    "    gradient_norm = round(np.linalg.norm(g(x)), precision)\n",
    "    Xk = [[np.NaN, f(x), gradient_norm]]\n",
    "    rk = [np.NaN]\n",
    "    Mk = [np.NaN]\n",
    "    #==============#\n",
    "    k = 0\n",
    "    almax = 1\n",
    "    while np.linalg.norm(g(x)) > eps and k < kmax:\n",
    "        d = -g(x)\n",
    "        if k != 0:\n",
    "            almax = np.squeeze(2 * (f(x) - f(x_prev)) / (g(x).T @ d))\n",
    "        alpha, iout = linesearch(f, g, x, d, alpham = almax, c1 = 0.01, c2 = 0.45, maxiter = 500, eps = 10e-6)\n",
    "        x_prev = x\n",
    "        x = x + alpha*d\n",
    "        k += 1\n",
    "        #===========#\n",
    "        gradient_norm = np.round(np.linalg.norm(g(x)), precision)\n",
    "        Xk.append([alpha, f(x), gradient_norm])\n",
    "        rk.append(np.linalg.norm(g(x))/np.linalg.norm((g(x_prev))))\n",
    "        Mk.append(np.linalg.norm(g(x))/(np.linalg.norm((g(x_prev)))**2))\n",
    "        #===========#\n",
    "    data = pd.DataFrame(Xk, columns=[\"alpha\", \"f(x)\", \"||g(x)||\"], dtype=np.float)\n",
    "    data['r'] = rk\n",
    "    data['M'] = Mk\n",
    "    return x, data"
   ]
  },
  {
   "cell_type": "code",
   "execution_count": 110,
   "metadata": {},
   "outputs": [],
   "source": [
    "def BFGS(x, f, g, eps, kmax, precision = 6):\n",
    "    gradient_norm = np.round(np.linalg.norm(g(x)), precision)\n",
    "    Xk = [[np.NaN, f(x), gradient_norm]]\n",
    "    rk = [np.NaN]\n",
    "    Mk = [np.NaN]\n",
    "    #===========#\n",
    "    H = I = np.identity(len(g(x)))\n",
    "    k = 0\n",
    "    almax = 1\n",
    "    while np.linalg.norm(g(x)) > eps and k < kmax:\n",
    "        d = -H @ g(x)\n",
    "        if k != 0:\n",
    "            almax = np.squeeze(2 * (f(x) - f(x_prev)) / (g(x).T @ d))\n",
    "            #almax = old_al * ((old_g.T) @ old_d) / (g(x).T @ d)\n",
    "        #alpha, iout = linesearch(f, g, x, d, alpham = almax, c1 = 0.01, c2 = 0.45, maxiter = 50, eps = 10e-6)\n",
    "        if k > 0:\n",
    "            alpha, *_ = line_search(f, g, x, d, old_old_fval=f(x_prev), c1 = 0.01, c2 = 0.45)\n",
    "        else:\n",
    "            alpha, *_ = line_search(f, g, x, d, c1 = 0.01, c2 = 0.45)\n",
    "        if alpha is None:\n",
    "            print(\"Stopped because of alpha (!)\")\n",
    "            databfgs = pd.DataFrame(Xk, columns=[\"alpha\", \"f(x)\", \"||g(x)||\"], dtype=np.float)\n",
    "            databfgs['r'] = rk\n",
    "            databfgs['M'] = Mk\n",
    "            return x, databfgs\n",
    "        old_g = g(x)\n",
    "        old_d = d\n",
    "        old_al = alpha\n",
    "        x, x_prev = x + alpha*d, x\n",
    "        s = x - x_prev\n",
    "        y = g(x) - g(x_prev)\n",
    "        y = y[None, :]\n",
    "        rho = 1 / ((y).T @ s)\n",
    "        H = (I - rho * s @ y.T) @ H @ (I - rho * y @ (s.T)) + rho * s @ s.T\n",
    "        k += 1\n",
    "        #===========#\n",
    "        gradient_norm = np.round(np.linalg.norm(g(x)), precision)\n",
    "        Xk.append([alpha, f(x), gradient_norm])\n",
    "        rk.append(np.linalg.norm(g(x))/np.linalg.norm((g(x_prev))))\n",
    "        Mk.append(np.linalg.norm(g(x))/(np.linalg.norm((g(x_prev)))**2))\n",
    "        #===========#\n",
    "    databfgs = pd.DataFrame(Xk, columns=[\"alpha\", \"f(x)\", \"||g(x)||\"], dtype=np.float)\n",
    "    databfgs['r'] = rk\n",
    "    databfgs['M'] = Mk\n",
    "    return x, databfgs"
   ]
  },
  {
   "cell_type": "code",
   "execution_count": 120,
   "metadata": {},
   "outputs": [],
   "source": [
    "def CGM(x, f, g, eps, kmax, iCG, iRC, precision = 6):\n",
    "    gradient_norm = round(np.linalg.norm(g(x)), precision)\n",
    "    Xk = [[np.NaN, f(x), gradient_norm]]\n",
    "    rk = [np.NaN]\n",
    "    Mk = [np.NaN]\n",
    "    #==============#\n",
    "    d = -g(x)\n",
    "    k = 0\n",
    "    while np.linalg.norm(g(x)) > eps and k < kmax:\n",
    "        if k != 0:\n",
    "            almax = np.squeeze(2 * (f(x) - f(x_prev)) / (g(x).T @ d))\n",
    "        alpha, iout = linesearch(f, g, x, d, 50, c1 = 0.01, c2 = 0.45, maxiter = 500, eps = 10e-6)\n",
    "        x, x_prev = x + alpha*d, x\n",
    "        # ============================================================================================================ #  \n",
    "        # CGM variants\n",
    "        if iCG == \"FR\":\n",
    "            beta = (g(x).T @ g(x)) / (g(x_prev).T @ g(x_prev))\n",
    "        elif iCG == \"PR\":\n",
    "            beta = max(0, g(x).T @ (g(x) - g(x_prev)) / (g(x_prev).T @ g(x_prev)))\n",
    "        else:\n",
    "            raise TypeError(\"iCG should be FR (Fletcher-Reeves) or PR (Polak-Ribière)\")\n",
    "        # ============================================================================================================ # \n",
    "        # Restart conditions\n",
    "        if iRC > 0 and nu is None:\n",
    "            raise TypeError(f\"nu is a necessary parameter with iRC equal to {iRC}\")\n",
    "        if (iRC == 1 and k % nu == 0 or\n",
    "                iRC == 2 and g(x).T @ g(x_prev) / np.linalg.norm(g(x))**2 > nu or\n",
    "                k == 0):\n",
    "            d = -g(x)\n",
    "        else:\n",
    "            d = -g(x) + beta*d\n",
    "        # ============================================================================================================ # \n",
    "        k += 1\n",
    "        #===========#\n",
    "        gradient_norm = np.round(np.linalg.norm(g(x)), precision)\n",
    "        Xk.append([alpha, f(x), gradient_norm])\n",
    "        rk.append(np.linalg.norm(g(x))/np.linalg.norm((g(x_prev))))\n",
    "        Mk.append(np.linalg.norm(g(x))/(np.linalg.norm((g(x_prev)))**2))\n",
    "        #===========#\n",
    "    data = pd.DataFrame(Xk, columns=[\"alpha\", \"f(x)\", \"||g(x)||\"], dtype=np.float)\n",
    "    data['r'] = rk\n",
    "    data['M'] = Mk\n",
    "    return x, data"
   ]
  },
  {
   "cell_type": "code",
   "execution_count": 8,
   "metadata": {},
   "outputs": [],
   "source": [
    "def y(X, w):\n",
    "    \"\"\"Evaluates a SLNN with weigths `w` \"\"\"\n",
    "    return sigmoid((sigmoid(X) @ w.T))"
   ]
  },
  {
   "cell_type": "code",
   "execution_count": 9,
   "metadata": {},
   "outputs": [],
   "source": [
    "def g_loss(w, X, ytr, p=0):\n",
    "    #return (2 * sigmoid(X) * ((y(X, w) - ytr) * y(X, w) * (1 - y(X, w))) + p*w).sum(axis=0)\n",
    "    return np.squeeze(2 * sigmoid(X.T) @ ((y(X, w) - ytr) * y(X, w) * (1 - y(X, w))) + p*w.T)"
   ]
  },
  {
   "cell_type": "code",
   "execution_count": null,
   "metadata": {},
   "outputs": [],
   "source": [
    "#g_loss(np.full((1, 35), 2), train, ytr)"
   ]
  },
  {
   "cell_type": "code",
   "execution_count": null,
   "metadata": {},
   "outputs": [],
   "source": [
    "#g_loss(wt, train, ytr)"
   ]
  },
  {
   "cell_type": "code",
   "execution_count": null,
   "metadata": {},
   "outputs": [],
   "source": [
    "#opty = BFGS(wt, lambda w: loss(w, train, ytr, 30), lambda w: g_loss(w, train, ytr, 30), 1e-6, 500)"
   ]
  },
  {
   "cell_type": "code",
   "execution_count": null,
   "metadata": {},
   "outputs": [],
   "source": [
    "#opty"
   ]
  },
  {
   "cell_type": "code",
   "execution_count": null,
   "metadata": {},
   "outputs": [],
   "source": [
    "#num_show(opty)"
   ]
  },
  {
   "cell_type": "code",
   "execution_count": null,
   "metadata": {},
   "outputs": [],
   "source": [
    "#g_loss(opty, train, ytr)"
   ]
  },
  {
   "cell_type": "code",
   "execution_count": null,
   "metadata": {},
   "outputs": [],
   "source": [
    "#loss(opty, train, ytr)"
   ]
  },
  {
   "cell_type": "code",
   "execution_count": null,
   "metadata": {},
   "outputs": [],
   "source": [
    "#np.round(np.squeeze(y(train, opty)))"
   ]
  },
  {
   "cell_type": "code",
   "execution_count": null,
   "metadata": {},
   "outputs": [],
   "source": [
    "#np.squeeze(ytr)"
   ]
  },
  {
   "cell_type": "code",
   "execution_count": 109,
   "metadata": {},
   "outputs": [],
   "source": [
    "def less(data):\n",
    "    if len(data) < 10:\n",
    "        return data\n",
    "    data_out = data.head(5)\n",
    "    data_out = data_out.append(data.tail(5))\n",
    "    return data_out"
   ]
  },
  {
   "cell_type": "markdown",
   "metadata": {},
   "source": [
    "#### Class"
   ]
  },
  {
   "cell_type": "code",
   "execution_count": 103,
   "metadata": {},
   "outputs": [],
   "source": [
    "class SLNN:\n",
    "    def __init__(self, n = 35):\n",
    "        self.weights    = np.zeros((1, 35))\n",
    "        self._trained = False\n",
    "        self.out = None\n",
    "        \n",
    "    def train(self, optimizer, x, y, p = 0, epsilon=10e-6, kmax = 1000):\n",
    "        if optimizer == \"GM\":\n",
    "            self.weights, self.out = GM(self.weights, lambda w: loss(w, x, y, p), lambda w: g_loss(w, x, y, p), epsilon, kmax)\n",
    "        elif optimizer == \"CGM\":\n",
    "            self.weights, self.out =  CGM(self.weights, lambda w: loss(w, x, y, p), lambda w: g_loss(w, x, y, p), epsilon, kmax, \"FR\", 0)\n",
    "        elif optimizer == \"BFGS\":\n",
    "            self.weights, self.out = BFGS(self.weights, lambda w: loss(w, x, y, p), lambda w: g_loss(w, x, y, p), epsilon, kmax)\n",
    "            print(self.out)\n",
    "        else:\n",
    "            raise ValueError(\"Invalid optimizer.\")\n",
    "        self.x, self.y, self.p = x, y, p\n",
    "        self.optimizer = optimizer\n",
    "        self._trained = True\n",
    "            \n",
    "    def predict(self, x):\n",
    "        return np.round(y(x, self.weights))\n",
    "    \n",
    "    def accuracy(self, x, y):\n",
    "        return 100 * np.sum(self.predict(x) == y) / len(y)\n",
    "    \n",
    "    def summary(self, Xte, yte):\n",
    "        if not self._trained:\n",
    "            print(\"Model is not trained yet\")\n",
    "        else:\n",
    "            print(f\"Single Layer Neural Network (SLNN)\")\n",
    "            print(\"-\"*75)\n",
    "            print(f\"Input size:\\t\\t\\t{len(np.squeeze(self.weights))}\")\n",
    "            print(f\"Output size:\\t\\t\\t1 (binary)\")\n",
    "            print(\"-\"*75)\n",
    "            print(f\"Train data:\\t\\t\\t{len(self.x)} observations\")\n",
    "            print(f\"Chosen optimization routine:\\t{self.optimizer}\")\n",
    "            print(f\"Regularization parameter:\\t{self.p}\")\n",
    "            print(f\"Loss:\\t\\t\\t\\t{loss(self.weights, self.x, self.y, self.p)[0]}\")\n",
    "            print(f\"Training accuracy:\\t\\t{self.accuracy(self.x, self.y)}%\")\n",
    "            print(f\"Test accuracy:\\t\\t\\t{self.accuracy(Xte, yte)}%\")\n",
    "            print(\"-\"*75)\n",
    "            print(\"Gradient: \\n\", g_loss(self.weights, self.x, self.y, self.p))\n",
    "            print(\"-\"*75)\n",
    "            num_show(self.weights)\n",
    "            return self.out"
   ]
  },
  {
   "cell_type": "code",
   "execution_count": 123,
   "metadata": {},
   "outputs": [
    {
     "name": "stdout",
     "output_type": "stream",
     "text": [
      "Single Layer Neural Network (SLNN)\n",
      "---------------------------------------------------------------------------\n",
      "Input size:\t\t\t35\n",
      "Output size:\t\t\t1 (binary)\n",
      "---------------------------------------------------------------------------\n",
      "Train data:\t\t\t500 observations\n",
      "Chosen optimization routine:\tGM\n",
      "Regularization parameter:\t0\n",
      "Loss:\t\t\t\t1.8015329602294195e-05\n",
      "Training accuracy:\t\t100.0%\n",
      "Test accuracy:\t\t\t100.0%\n",
      "---------------------------------------------------------------------------\n",
      "Gradient: \n",
      " [ 5.59556168e-07 -1.73669603e-07 -1.24890169e-06 -1.47267567e-06\n",
      "  2.33621420e-06 -9.21788620e-07 -2.40675827e-06 -2.37127520e-07\n",
      " -2.22654722e-06 -1.06471591e-06 -2.72901135e-06 -7.92342578e-07\n",
      " -5.89722463e-07 -3.00812678e-06 -6.39118826e-07 -1.94487798e-06\n",
      "  1.29736627e-06  1.73289758e-07 -1.38776482e-06 -7.68516497e-07\n",
      " -1.93548534e-06 -3.58159587e-06 -1.71406766e-06 -4.09829046e-07\n",
      " -2.75707364e-06  8.70828709e-07  4.91456453e-07 -2.72238855e-07\n",
      " -2.95025049e-06 -3.12644980e-07  2.03509228e-06  4.82168976e-07\n",
      "  6.81235088e-07 -2.68034281e-06 -8.71440102e-07]\n",
      "---------------------------------------------------------------------------\n"
     ]
    },
    {
     "data": {
      "image/png": "[encoded data removed]",
      "text/plain": [
       "<Figure size 432x288 with 1 Axes>"
      ]
     },
     "metadata": {
      "needs_background": "light"
     },
     "output_type": "display_data"
    }
   ],
   "source": [
    "train, test, ytr, yte = gen_data(123456, 500, [4], 0.5, 0.1)\n",
    "net = SLNN()\n",
    "net.train(\"GM\", train, ytr)\n",
    "datagm = net.summary(test, yte)"
   ]
  },
  {
   "cell_type": "code",
   "execution_count": 124,
   "metadata": {},
   "outputs": [
    {
     "data": {
      "text/plain": [
       "[<matplotlib.lines.Line2D at 0x1222f7978>]"
      ]
     },
     "execution_count": 124,
     "metadata": {},
     "output_type": "execute_result"
    },
    {
     "data": {
      "image/png": "[encoded data removed]",
      "text/plain": [
       "<Figure size 432x288 with 1 Axes>"
      ]
     },
     "metadata": {
      "needs_background": "light"
     },
     "output_type": "display_data"
    }
   ],
   "source": [
    "#plt.plot(data['||g(x)||'][0:10])\n",
    "plt.plot(datagm['r'])\n",
    "#plt.plot(data['M'])"
   ]
  },
  {
   "cell_type": "code",
   "execution_count": 122,
   "metadata": {},
   "outputs": [
    {
     "name": "stdout",
     "output_type": "stream",
     "text": [
      "Single Layer Neural Network (SLNN)\n",
      "---------------------------------------------------------------------------\n",
      "Input size:\t\t\t35\n",
      "Output size:\t\t\t1 (binary)\n",
      "---------------------------------------------------------------------------\n",
      "Train data:\t\t\t500 observations\n",
      "Chosen optimization routine:\tCGM\n",
      "Regularization parameter:\t0\n",
      "Loss:\t\t\t\t4.110601874626356e-11\n",
      "Training accuracy:\t\t100.0%\n",
      "Test accuracy:\t\t\t100.0%\n",
      "---------------------------------------------------------------------------\n",
      "Gradient: \n",
      " [4.48663204e-11 4.48608548e-11 6.01015057e-11 6.01014082e-11\n",
      " 6.00959844e-11 4.11058070e-11 5.63409937e-11 4.11452196e-11\n",
      " 4.11478962e-11 4.11112718e-11 5.63408964e-11 4.11058293e-11\n",
      " 4.11059052e-11 4.11058086e-11 4.11112716e-11 5.63464458e-11\n",
      " 5.63408968e-11 5.63409914e-11 6.01014082e-11 4.11085815e-11\n",
      " 5.63409323e-11 4.48608664e-11 6.00593936e-11 6.00931965e-11\n",
      " 5.63409460e-11 5.63408964e-11 4.48663188e-11 4.11452195e-11\n",
      " 4.11112725e-11 4.11479542e-11 6.00592961e-11 5.63381635e-11\n",
      " 5.63409822e-11 5.63409939e-11 4.11058071e-11]\n",
      "---------------------------------------------------------------------------\n"
     ]
    },
    {
     "data": {
      "image/png": "[encoded data removed]",
      "text/plain": [
       "<Figure size 432x288 with 1 Axes>"
      ]
     },
     "metadata": {
      "needs_background": "light"
     },
     "output_type": "display_data"
    }
   ],
   "source": [
    "train, test, ytr, yte = gen_data(123456, 500, [4], 0.5, 0.1)\n",
    "net = SLNN()\n",
    "net.train(\"CGM\", train, ytr)\n",
    "datacgm = net.summary(test, yte)"
   ]
  },
  {
   "cell_type": "code",
   "execution_count": 126,
   "metadata": {},
   "outputs": [
    {
     "data": {
      "text/plain": [
       "[<matplotlib.lines.Line2D at 0x1223c36d8>]"
      ]
     },
     "execution_count": 126,
     "metadata": {},
     "output_type": "execute_result"
    },
    {
     "data": {
      "image/png": "[encoded data removed]",
      "text/plain": [
       "<Figure size 432x288 with 1 Axes>"
      ]
     },
     "metadata": {
      "needs_background": "light"
     },
     "output_type": "display_data"
    }
   ],
   "source": [
    "plt.plot(datacgm['r'])"
   ]
  },
  {
   "cell_type": "code",
   "execution_count": 111,
   "metadata": {},
   "outputs": [
    {
     "name": "stdout",
     "output_type": "stream",
     "text": [
      "Stopped because of alpha (!)\n",
      "          alpha        f(x)   ||g(x)||         r           M\n",
      "0           NaN  125.000000  40.456701       NaN         NaN\n",
      "1  1.000000e+00   24.391942  29.139734  0.720270    0.017803\n",
      "2  1.583714e-07    0.058668   0.335474  0.011513    0.000395\n",
      "3  1.984351e-12    0.018684   0.109012  0.324949    0.968626\n",
      "4  1.036548e-18    0.009785   0.018913  0.173495    1.591519\n",
      "5  1.261522e-24    0.009468   0.007268  0.384286   20.318533\n",
      "6  7.572507e-31    0.009458   0.006787  0.933813  128.482555\n",
      "7  1.453318e-37    0.009458   0.006786  0.999794  147.310863\n",
      "Single Layer Neural Network (SLNN)\n",
      "---------------------------------------------------------------------------\n",
      "Input size:\t\t\t35\n",
      "Output size:\t\t\t1 (binary)\n",
      "---------------------------------------------------------------------------\n",
      "Train data:\t\t\t500 observations\n",
      "Chosen optimization routine:\tBFGS\n",
      "Regularization parameter:\t0\n",
      "Loss:\t\t\t\t0.009458452706506937\n",
      "Training accuracy:\t\t100.0%\n",
      "Test accuracy:\t\t\t99.96%\n",
      "---------------------------------------------------------------------------\n",
      "Gradient: \n",
      " [ 1.90968642e-03  1.86146849e-03  2.36618691e-04  2.27888247e-04\n",
      "  2.23956476e-03  1.61965271e-04 -1.33871647e-03  2.09608661e-04\n",
      " -1.84461578e-03 -3.16866392e-06 -1.50840200e-03  1.75381442e-04\n",
      "  1.86910383e-04 -1.50048964e-03  1.94071284e-04 -4.27414678e-04\n",
      "  5.45561543e-04 -5.78870631e-04  2.28663380e-04 -1.88968978e-03\n",
      " -1.49841345e-03  4.06025417e-04  3.33071068e-04  8.74324829e-04\n",
      " -1.50408204e-03 -2.60932272e-04  1.89829357e-03  2.15254052e-04\n",
      " -1.62546809e-03  2.25169324e-04  2.21815169e-03  5.46615144e-04\n",
      " -1.48662094e-04 -1.49958220e-03  1.62244701e-04]\n",
      "---------------------------------------------------------------------------\n"
     ]
    },
    {
     "data": {
      "text/html": [
       "<div>\n",
       "<style scoped>\n",
       "    .dataframe tbody tr th:only-of-type {\n",
       "        vertical-align: middle;\n",
       "    }\n",
       "\n",
       "    .dataframe tbody tr th {\n",
       "        vertical-align: top;\n",
       "    }\n",
       "\n",
       "    .dataframe thead th {\n",
       "        text-align: right;\n",
       "    }\n",
       "</style>\n",
       "<table border=\"1\" class=\"dataframe\">\n",
       "  <thead>\n",
       "    <tr style=\"text-align: right;\">\n",
       "      <th></th>\n",
       "      <th>alpha</th>\n",
       "      <th>f(x)</th>\n",
       "      <th>||g(x)||</th>\n",
       "      <th>r</th>\n",
       "      <th>M</th>\n",
       "    </tr>\n",
       "  </thead>\n",
       "  <tbody>\n",
       "    <tr>\n",
       "      <th>0</th>\n",
       "      <td>NaN</td>\n",
       "      <td>125.000000</td>\n",
       "      <td>40.456701</td>\n",
       "      <td>NaN</td>\n",
       "      <td>NaN</td>\n",
       "    </tr>\n",
       "    <tr>\n",
       "      <th>1</th>\n",
       "      <td>1.000000e+00</td>\n",
       "      <td>24.391942</td>\n",
       "      <td>29.139734</td>\n",
       "      <td>0.720270</td>\n",
       "      <td>0.017803</td>\n",
       "    </tr>\n",
       "    <tr>\n",
       "      <th>2</th>\n",
       "      <td>1.583714e-07</td>\n",
       "      <td>0.058668</td>\n",
       "      <td>0.335474</td>\n",
       "      <td>0.011513</td>\n",
       "      <td>0.000395</td>\n",
       "    </tr>\n",
       "    <tr>\n",
       "      <th>3</th>\n",
       "      <td>1.984351e-12</td>\n",
       "      <td>0.018684</td>\n",
       "      <td>0.109012</td>\n",
       "      <td>0.324949</td>\n",
       "      <td>0.968626</td>\n",
       "    </tr>\n",
       "    <tr>\n",
       "      <th>4</th>\n",
       "      <td>1.036548e-18</td>\n",
       "      <td>0.009785</td>\n",
       "      <td>0.018913</td>\n",
       "      <td>0.173495</td>\n",
       "      <td>1.591519</td>\n",
       "    </tr>\n",
       "    <tr>\n",
       "      <th>5</th>\n",
       "      <td>1.261522e-24</td>\n",
       "      <td>0.009468</td>\n",
       "      <td>0.007268</td>\n",
       "      <td>0.384286</td>\n",
       "      <td>20.318533</td>\n",
       "    </tr>\n",
       "    <tr>\n",
       "      <th>6</th>\n",
       "      <td>7.572507e-31</td>\n",
       "      <td>0.009458</td>\n",
       "      <td>0.006787</td>\n",
       "      <td>0.933813</td>\n",
       "      <td>128.482555</td>\n",
       "    </tr>\n",
       "    <tr>\n",
       "      <th>7</th>\n",
       "      <td>1.453318e-37</td>\n",
       "      <td>0.009458</td>\n",
       "      <td>0.006786</td>\n",
       "      <td>0.999794</td>\n",
       "      <td>147.310863</td>\n",
       "    </tr>\n",
       "  </tbody>\n",
       "</table>\n",
       "</div>"
      ],
      "text/plain": [
       "          alpha        f(x)   ||g(x)||         r           M\n",
       "0           NaN  125.000000  40.456701       NaN         NaN\n",
       "1  1.000000e+00   24.391942  29.139734  0.720270    0.017803\n",
       "2  1.583714e-07    0.058668   0.335474  0.011513    0.000395\n",
       "3  1.984351e-12    0.018684   0.109012  0.324949    0.968626\n",
       "4  1.036548e-18    0.009785   0.018913  0.173495    1.591519\n",
       "5  1.261522e-24    0.009468   0.007268  0.384286   20.318533\n",
       "6  7.572507e-31    0.009458   0.006787  0.933813  128.482555\n",
       "7  1.453318e-37    0.009458   0.006786  0.999794  147.310863"
      ]
     },
     "execution_count": 111,
     "metadata": {},
     "output_type": "execute_result"
    },
    {
     "data": {
      "image/png": "[encoded data removed]",
      "text/plain": [
       "<Figure size 432x288 with 1 Axes>"
      ]
     },
     "metadata": {
      "needs_background": "light"
     },
     "output_type": "display_data"
    }
   ],
   "source": [
    "train, test, ytr, yte = gen_data(123456, 500, [4], 0.5, 0.1)\n",
    "net = SLNN()\n",
    "net.train(\"BFGS\", train, ytr)\n",
    "dataBFGS = net.summary(test, yte)\n",
    "dataBFGS"
   ]
  },
  {
   "cell_type": "code",
   "execution_count": 127,
   "metadata": {},
   "outputs": [
    {
     "data": {
      "text/plain": [
       "[<matplotlib.lines.Line2D at 0x1222b0b00>]"
      ]
     },
     "execution_count": 127,
     "metadata": {},
     "output_type": "execute_result"
    },
    {
     "data": {
      "image/png": "[encoded data removed]",
      "text/plain": [
       "<Figure size 432x288 with 1 Axes>"
      ]
     },
     "metadata": {
      "needs_background": "light"
     },
     "output_type": "display_data"
    }
   ],
   "source": [
    "#plt.plot(data['||g(x)||'])\n",
    "plt.plot(data['r'][0:7])\n",
    "plt.plot(dataBFGS['r'])"
   ]
  },
  {
   "cell_type": "code",
   "execution_count": 61,
   "metadata": {},
   "outputs": [
    {
     "name": "stdout",
     "output_type": "stream",
     "text": [
      "Single Layer Neural Network (SLNN)\n",
      "---------------------------------------------------------------------------\n",
      "Input size:\t\t\t35\n",
      "Output size:\t\t\t1 (binary)\n",
      "---------------------------------------------------------------------------\n",
      "Train data:\t\t\t500 observations\n",
      "Chosen optimization routine:\tGM\n",
      "Regularization parameter:\t0\n",
      "Loss:\t\t\t\t15.7873447956601\n",
      "Training accuracy:\t\t97.8%\n",
      "Test accuracy:\t\t\t93.92%\n",
      "---------------------------------------------------------------------------\n",
      "Gradient: \n",
      " [ 0.42679513  0.26026234  0.33537599  0.22787456  0.38585843  0.0106889\n",
      "  0.68649078  0.30826498  0.29935894  0.11423257 -0.05690865  0.31912449\n",
      "  0.35681318  0.3110039   0.18207195  0.4629407  -0.15074207  0.2432382\n",
      "  0.24705637  0.70711124 -0.18515008  0.39285471  0.25864438  0.34742864\n",
      "  0.23982925  0.12290892  0.31507082  0.33444499  0.34925713  0.32438169\n",
      "  0.36039494  0.1688785   0.32044085  0.34021588  0.30661072]\n",
      "---------------------------------------------------------------------------\n"
     ]
    },
    {
     "data": {
      "image/png": "[encoded data removed]",
      "text/plain": [
       "<Figure size 432x288 with 1 Axes>"
      ]
     },
     "metadata": {
      "needs_background": "light"
     },
     "output_type": "display_data"
    }
   ],
   "source": [
    "train, test, ytr, yte = gen_data(123456, 500, [8], 0.5, 0.1)\n",
    "net = SLNN()\n",
    "net.train(\"GM\", train, ytr)\n",
    "data = net.summary(test, yte)"
   ]
  },
  {
   "cell_type": "code",
   "execution_count": 62,
   "metadata": {},
   "outputs": [
    {
     "data": {
      "text/plain": [
       "[<matplotlib.lines.Line2D at 0x12138e240>]"
      ]
     },
     "execution_count": 62,
     "metadata": {},
     "output_type": "execute_result"
    },
    {
     "data": {
      "image/png": "[encoded data removed]",
      "text/plain": [
       "<Figure size 432x288 with 1 Axes>"
      ]
     },
     "metadata": {
      "needs_background": "light"
     },
     "output_type": "display_data"
    }
   ],
   "source": [
    "plt.plot(data['||g(x)||'])"
   ]
  },
  {
   "cell_type": "code",
   "execution_count": 63,
   "metadata": {},
   "outputs": [
    {
     "name": "stdout",
     "output_type": "stream",
     "text": [
      "Single Layer Neural Network (SLNN)\n",
      "---------------------------------------------------------------------------\n",
      "Input size:\t\t\t35\n",
      "Output size:\t\t\t1 (binary)\n",
      "---------------------------------------------------------------------------\n",
      "Train data:\t\t\t500 observations\n",
      "Chosen optimization routine:\tCGM\n",
      "Regularization parameter:\t0\n",
      "Loss:\t\t\t\t1.0002986923787753\n",
      "Training accuracy:\t\t99.8%\n",
      "Test accuracy:\t\t\t94.5%\n",
      "---------------------------------------------------------------------------\n",
      "Gradient: \n",
      " [ 2.57056722e-06 -2.08646063e-06  5.19014925e-07 -6.21307945e-07\n",
      "  2.47781872e-06 -1.79787679e-06  2.84234544e-06  1.00741686e-06\n",
      "  6.05676769e-07 -5.47520348e-07 -2.07149500e-06  1.36129321e-06\n",
      "  6.66413406e-07  6.14301120e-07 -1.13044353e-06  2.41444006e-06\n",
      " -1.85833398e-06 -3.10966899e-06 -8.26266113e-07  1.51865391e-06\n",
      " -3.68111865e-06  1.06290369e-06  7.96426957e-07  1.02499472e-06\n",
      " -2.48659672e-06  7.42517763e-07  1.05201540e-06  1.31294275e-06\n",
      "  3.82338731e-07 -2.29184295e-06  1.40505367e-06  2.16925073e-08\n",
      "  1.94415123e-06 -8.86223821e-08  1.14305946e-06]\n",
      "---------------------------------------------------------------------------\n"
     ]
    },
    {
     "data": {
      "image/png": "[encoded data removed]",
      "text/plain": [
       "<Figure size 432x288 with 1 Axes>"
      ]
     },
     "metadata": {
      "needs_background": "light"
     },
     "output_type": "display_data"
    }
   ],
   "source": [
    "train, test, ytr, yte = gen_data(123456, 500, [8], 0.5, 0.1)\n",
    "net = SLNN()\n",
    "net.train(\"CGM\", train, ytr)\n",
    "data = net.summary(test, yte)"
   ]
  },
  {
   "cell_type": "code",
   "execution_count": 64,
   "metadata": {},
   "outputs": [
    {
     "data": {
      "text/plain": [
       "[<matplotlib.lines.Line2D at 0x1208a04e0>]"
      ]
     },
     "execution_count": 64,
     "metadata": {},
     "output_type": "execute_result"
    },
    {
     "data": {
      "image/png": "[encoded data removed]",
      "text/plain": [
       "<Figure size 432x288 with 1 Axes>"
      ]
     },
     "metadata": {
      "needs_background": "light"
     },
     "output_type": "display_data"
    }
   ],
   "source": [
    "plt.plot(data['||g(x)||'])"
   ]
  },
  {
   "cell_type": "code",
   "execution_count": 65,
   "metadata": {},
   "outputs": [
    {
     "name": "stdout",
     "output_type": "stream",
     "text": [
      "Stopped because of alpha (!)\n",
      "Single Layer Neural Network (SLNN)\n",
      "---------------------------------------------------------------------------\n",
      "Input size:\t\t\t35\n",
      "Output size:\t\t\t1 (binary)\n",
      "---------------------------------------------------------------------------\n",
      "Train data:\t\t\t500 observations\n",
      "Chosen optimization routine:\tBFGS\n",
      "Regularization parameter:\t0\n",
      "Loss:\t\t\t\t118.69542363015015\n",
      "Training accuracy:\t\t83.4%\n",
      "Test accuracy:\t\t\t69.04%\n",
      "---------------------------------------------------------------------------\n",
      "Gradient: \n",
      " [ 2.37999644 -3.11229501  0.90251958 -0.47700948  4.31601701 -3.65104013\n",
      "  4.78776481  1.6914638   1.69161803 -3.63279979 -4.42052549  1.77269569\n",
      "  2.84762066  2.58746916 -3.39094766  4.18394519 -8.18143175 -4.85170763\n",
      " -2.59207997  4.61301054 -6.59711493  1.4659586   5.56489607  2.08801246\n",
      " -3.25068612 -5.85095558  2.59976327  2.08712957  1.34017148 -4.46918214\n",
      "  2.88555762 -2.03484378 -1.51407342 -0.17285102  1.66971035]\n",
      "---------------------------------------------------------------------------\n"
     ]
    },
    {
     "data": {
      "image/png": "[encoded data removed]",
      "text/plain": [
       "<Figure size 432x288 with 1 Axes>"
      ]
     },
     "metadata": {
      "needs_background": "light"
     },
     "output_type": "display_data"
    }
   ],
   "source": [
    "train, test, ytr, yte = gen_data(123456, 500, [8], 0.5, 0.1)\n",
    "net = SLNN()\n",
    "net.train(\"BFGS\", train, ytr)\n",
    "data = net.summary(test, yte)"
   ]
  },
  {
   "cell_type": "code",
   "execution_count": 66,
   "metadata": {},
   "outputs": [
    {
     "data": {
      "text/plain": [
       "[<matplotlib.lines.Line2D at 0x1217bbf28>]"
      ]
     },
     "execution_count": 66,
     "metadata": {},
     "output_type": "execute_result"
    },
    {
     "data": {
      "image/png": "[encoded data removed]",
      "text/plain": [
       "<Figure size 432x288 with 1 Axes>"
      ]
     },
     "metadata": {
      "needs_background": "light"
     },
     "output_type": "display_data"
    }
   ],
   "source": [
    "plt.plot(data['||g(x)||'])"
   ]
  },
  {
   "cell_type": "markdown",
   "metadata": {},
   "source": [
    "#### MATLAB test"
   ]
  },
  {
   "cell_type": "code",
   "execution_count": null,
   "metadata": {},
   "outputs": [],
   "source": [
    "mXtr = np.array([\n",
    "    [1, 1, 0],\n",
    "    [0, 1, 0],\n",
    "    [0, 0, 1]\n",
    "]).T\n",
    "mytr = np.array([[0, 0, 1]]).T"
   ]
  },
  {
   "cell_type": "code",
   "execution_count": null,
   "metadata": {},
   "outputs": [],
   "source": [
    "g_loss(np.array([[2, 2, 2]]), mXtr, mytr)"
   ]
  },
  {
   "cell_type": "code",
   "execution_count": null,
   "metadata": {},
   "outputs": [],
   "source": []
  }
 ],
 "metadata": {
  "kernelspec": {
   "display_name": "Python 3",
   "language": "python",
   "name": "python3"
  },
  "language_info": {
   "codemirror_mode": {
    "name": "ipython",
    "version": 3
   },
   "file_extension": ".py",
   "mimetype": "text/x-python",
   "name": "python",
   "nbconvert_exporter": "python",
   "pygments_lexer": "ipython3",
   "version": "3.7.2"
  }
 },
 "nbformat": 4,
 "nbformat_minor": 2
}
