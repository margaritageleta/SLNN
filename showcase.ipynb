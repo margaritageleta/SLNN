{
 "cells": [
  {
   "cell_type": "markdown",
   "metadata": {},
   "source": [
    "# Pattern recognition using SLNNs\n",
    "## Examples and more"
   ]
  },
  {
   "cell_type": "markdown",
   "metadata": {},
   "source": [
    "Before starting, make sure you have the need libraries installed. If not, use ```pip3 install jupyter numpy scipy pandas```. We can import all functions and classes from ```main```. This notebook needs to be in the same directory as the python file."
   ]
  },
  {
   "cell_type": "code",
   "execution_count": 1,
   "metadata": {},
   "outputs": [],
   "source": [
    "from main import *"
   ]
  },
  {
   "cell_type": "markdown",
   "metadata": {},
   "source": [
    "#### Add noise"
   ]
  },
  {
   "cell_type": "markdown",
   "metadata": {},
   "source": [
    "We have the vector ```nums``` available to us. We can use ```num_show``` to show any number (or any similar matrix, like the weights)."
   ]
  },
  {
   "cell_type": "code",
   "execution_count": 13,
   "metadata": {},
   "outputs": [
    {
     "data": {
      "image/png": "[encoded data removed]",
      "text/plain": [
       "<Figure size 432x288 with 1 Axes>"
      ]
     },
     "metadata": {
      "needs_background": "light"
     },
     "output_type": "display_data"
    }
   ],
   "source": [
    "num_show(nums[2])"
   ]
  },
  {
   "cell_type": "markdown",
   "metadata": {},
   "source": [
    "Adding noise is trivial with the ```add_noise``` function. We just have to specify the percentage of noise to add."
   ]
  },
  {
   "cell_type": "code",
   "execution_count": 9,
   "metadata": {},
   "outputs": [
    {
     "data": {
      "image/png": "[encoded data removed]",
      "text/plain": [
       "<Figure size 432x288 with 1 Axes>"
      ]
     },
     "metadata": {
      "needs_background": "light"
     },
     "output_type": "display_data"
    }
   ],
   "source": [
    "noisy = add_noise(nums[9], 0.05) # 5% of noise.\n",
    "num_show(noisy)"
   ]
  },
  {
   "cell_type": "markdown",
   "metadata": {},
   "source": [
    "#### Generate data"
   ]
  },
  {
   "cell_type": "markdown",
   "metadata": {},
   "source": [
    "The ```gen_data``` function generates at the same time the train and test sets, with their corresponding labels. The arguments are the seed, the number of elements in the train set, the target numbers, the training and the noise percentage."
   ]
  },
  {
   "cell_type": "code",
   "execution_count": 10,
   "metadata": {},
   "outputs": [],
   "source": [
    "train, test, ytr, yte = gen_data(123, 10, [1,2,3], 0.5, 0.1)"
   ]
  },
  {
   "cell_type": "markdown",
   "metadata": {},
   "source": [
    "The labels *ytr* and *yte* are binary numbers, telling us if the corresponding number is one of our targets or not."
   ]
  },
  {
   "cell_type": "code",
   "execution_count": 8,
   "metadata": {},
   "outputs": [
    {
     "data": {
      "text/plain": [
       "array([1.])"
      ]
     },
     "execution_count": 8,
     "metadata": {},
     "output_type": "execute_result"
    },
    {
     "data": {
      "image/png": "[encoded data removed]",
      "text/plain": [
       "<Figure size 432x288 with 1 Axes>"
      ]
     },
     "metadata": {
      "needs_background": "light"
     },
     "output_type": "display_data"
    }
   ],
   "source": [
    "num_show(train[0])\n",
    "ytr[0]"
   ]
  },
  {
   "cell_type": "markdown",
   "metadata": {},
   "source": [
    "#### SLNN"
   ]
  },
  {
   "cell_type": "markdown",
   "metadata": {},
   "source": [
    "There is a class ```SLNN``` available to us. With it, we can train a SLNN model, predict values with it, compute the accuracy..."
   ]
  },
  {
   "cell_type": "code",
   "execution_count": 11,
   "metadata": {},
   "outputs": [
    {
     "name": "stdout",
     "output_type": "stream",
     "text": [
      "Single Layer Neural Network (SLNN)\n",
      "---------------------------------------------------------------------------\n",
      "Input size:\t\t\t35\n",
      "Output size:\t\t\t1 (binary)\n",
      "---------------------------------------------------------------------------\n",
      "Train data:\t\t\t500 observations\n",
      "Chosen optimization routine:\tBFGS\n",
      "Regularization parameter:\t0\n",
      "Loss:\t\t\t\t118.1059984055998\n",
      "Training accuracy:\t\t84.4%\n",
      "Test accuracy:\t\t\t71.06%\n",
      "---------------------------------------------------------------------------\n",
      "Gradient: \n",
      " [ 3.12891277 -3.07875417  0.84002179 -0.35153353  4.5235095  -3.99597384\n",
      "  4.55255153  1.08611423  1.94618165 -4.18529443 -4.45280124  1.96185587\n",
      "  3.37583987  2.92482099 -3.5243842   4.01555449 -7.62581428 -5.1188836\n",
      " -4.01328387  3.78584589 -5.90360004  1.3071816   5.74227661  1.48927643\n",
      " -2.94814783 -4.90626761  3.32844683  1.1610722   1.31443397 -4.03717514\n",
      "  3.22949143 -1.65660754 -1.2125115  -0.12144392  1.96565559]\n",
      "---------------------------------------------------------------------------\n"
     ]
    },
    {
     "name": "stderr",
     "output_type": "stream",
     "text": [
      "/usr/local/lib/python3.7/site-packages/scipy/optimize/linesearch.py:313: LineSearchWarning: The line search algorithm did not converge\n",
      "  warn('The line search algorithm did not converge', LineSearchWarning)\n"
     ]
    },
    {
     "data": {
      "text/html": [
       "<div>\n",
       "<style scoped>\n",
       "    .dataframe tbody tr th:only-of-type {\n",
       "        vertical-align: middle;\n",
       "    }\n",
       "\n",
       "    .dataframe tbody tr th {\n",
       "        vertical-align: top;\n",
       "    }\n",
       "\n",
       "    .dataframe thead th {\n",
       "        text-align: right;\n",
       "    }\n",
       "</style>\n",
       "<table border=\"1\" class=\"dataframe\">\n",
       "  <thead>\n",
       "    <tr style=\"text-align: right;\">\n",
       "      <th></th>\n",
       "      <th>alpha</th>\n",
       "      <th>f(x)</th>\n",
       "      <th>||g(x)||</th>\n",
       "      <th>r</th>\n",
       "      <th>M</th>\n",
       "    </tr>\n",
       "  </thead>\n",
       "  <tbody>\n",
       "    <tr>\n",
       "      <th>0</th>\n",
       "      <td>NaN</td>\n",
       "      <td>125.000000</td>\n",
       "      <td>22.724790</td>\n",
       "      <td>NaN</td>\n",
       "      <td>NaN</td>\n",
       "    </tr>\n",
       "    <tr>\n",
       "      <th>1</th>\n",
       "      <td>1.406584e-02</td>\n",
       "      <td>121.275461</td>\n",
       "      <td>70.954773</td>\n",
       "      <td>3.122351</td>\n",
       "      <td>0.137398</td>\n",
       "    </tr>\n",
       "    <tr>\n",
       "      <th>2</th>\n",
       "      <td>1.002200e-09</td>\n",
       "      <td>118.251250</td>\n",
       "      <td>28.289934</td>\n",
       "      <td>0.398704</td>\n",
       "      <td>0.005619</td>\n",
       "    </tr>\n",
       "    <tr>\n",
       "      <th>3</th>\n",
       "      <td>4.803834e-16</td>\n",
       "      <td>118.105998</td>\n",
       "      <td>20.980889</td>\n",
       "      <td>0.741638</td>\n",
       "      <td>0.026216</td>\n",
       "    </tr>\n",
       "  </tbody>\n",
       "</table>\n",
       "</div>"
      ],
      "text/plain": [
       "          alpha        f(x)   ||g(x)||         r         M\n",
       "0           NaN  125.000000  22.724790       NaN       NaN\n",
       "1  1.406584e-02  121.275461  70.954773  3.122351  0.137398\n",
       "2  1.002200e-09  118.251250  28.289934  0.398704  0.005619\n",
       "3  4.803834e-16  118.105998  20.980889  0.741638  0.026216"
      ]
     },
     "execution_count": 11,
     "metadata": {},
     "output_type": "execute_result"
    },
    {
     "data": {
      "image/png": "[encoded data removed]",
      "text/plain": [
       "<Figure size 432x288 with 1 Axes>"
      ]
     },
     "metadata": {
      "needs_background": "light"
     },
     "output_type": "display_data"
    }
   ],
   "source": [
    "train, test, ytr, yte = gen_data(123456, 500, [8], 0.5, 0.1)\n",
    "net = SLNN()\n",
    "net.train(\"BFGS\", train, ytr)\n",
    "net.summary(test, yte)"
   ]
  },
  {
   "cell_type": "markdown",
   "metadata": {},
   "source": [
    "There's another method of ```SLNN``` called ```cvtrain```, which will find a regularization parameter for us (using cross-validation) and train the model with it."
   ]
  },
  {
   "cell_type": "code",
   "execution_count": 7,
   "metadata": {},
   "outputs": [
    {
     "name": "stdout",
     "output_type": "stream",
     "text": [
      "Single Layer Neural Network (SLNN)\n",
      "---------------------------------------------------------------------------\n",
      "Input size:\t\t\t35\n",
      "Output size:\t\t\t1 (binary)\n",
      "---------------------------------------------------------------------------\n",
      "Train data:\t\t\t500 observations\n",
      "Chosen optimization routine:\tBFGS\n",
      "Regularization parameter:\t0.3\n",
      "Loss:\t\t\t\t45.64988762129941\n",
      "Training accuracy:\t\t95.6%\n",
      "Test accuracy:\t\t\t90.32%\n",
      "---------------------------------------------------------------------------\n",
      "Gradient: \n",
      " [-0.17948467  0.13771914 -0.12362389  0.03798269 -0.05127049  0.13201352\n",
      "  0.29118305 -0.14038465 -0.15749186  0.26065896 -0.32562301 -0.07579167\n",
      " -0.29402269 -0.35554792  0.2716692   0.32671559 -0.0893419   0.4035869\n",
      "  0.188556    1.04683121 -0.68215907  0.05954559 -0.88975188 -0.04702216\n",
      "  0.3506315   0.20085228 -0.34674192 -0.20652523 -0.02045568  0.81186022\n",
      " -0.39467069  0.11929531  0.45355152  0.13682345 -0.17175046]\n",
      "---------------------------------------------------------------------------\n"
     ]
    },
    {
     "data": {
      "text/html": [
       "<div>\n",
       "<style scoped>\n",
       "    .dataframe tbody tr th:only-of-type {\n",
       "        vertical-align: middle;\n",
       "    }\n",
       "\n",
       "    .dataframe tbody tr th {\n",
       "        vertical-align: top;\n",
       "    }\n",
       "\n",
       "    .dataframe thead th {\n",
       "        text-align: right;\n",
       "    }\n",
       "</style>\n",
       "<table border=\"1\" class=\"dataframe\">\n",
       "  <thead>\n",
       "    <tr style=\"text-align: right;\">\n",
       "      <th></th>\n",
       "      <th>alpha</th>\n",
       "      <th>f(x)</th>\n",
       "      <th>||g(x)||</th>\n",
       "      <th>r</th>\n",
       "      <th>M</th>\n",
       "    </tr>\n",
       "  </thead>\n",
       "  <tbody>\n",
       "    <tr>\n",
       "      <th>0</th>\n",
       "      <td>NaN</td>\n",
       "      <td>120.650476</td>\n",
       "      <td>21.797951</td>\n",
       "      <td>NaN</td>\n",
       "      <td>NaN</td>\n",
       "    </tr>\n",
       "    <tr>\n",
       "      <th>1</th>\n",
       "      <td>4.525402e-01</td>\n",
       "      <td>92.409202</td>\n",
       "      <td>126.689790</td>\n",
       "      <td>5.812005</td>\n",
       "      <td>0.266631</td>\n",
       "    </tr>\n",
       "    <tr>\n",
       "      <th>2</th>\n",
       "      <td>2.139093e-09</td>\n",
       "      <td>48.126839</td>\n",
       "      <td>45.508915</td>\n",
       "      <td>0.359215</td>\n",
       "      <td>0.002835</td>\n",
       "    </tr>\n",
       "    <tr>\n",
       "      <th>3</th>\n",
       "      <td>7.812548e-16</td>\n",
       "      <td>45.696399</td>\n",
       "      <td>7.200783</td>\n",
       "      <td>0.158228</td>\n",
       "      <td>0.003477</td>\n",
       "    </tr>\n",
       "    <tr>\n",
       "      <th>4</th>\n",
       "      <td>4.982071e-22</td>\n",
       "      <td>45.649975</td>\n",
       "      <td>2.231332</td>\n",
       "      <td>0.309874</td>\n",
       "      <td>0.043033</td>\n",
       "    </tr>\n",
       "    <tr>\n",
       "      <th>5</th>\n",
       "      <td>2.405773e-28</td>\n",
       "      <td>45.649888</td>\n",
       "      <td>2.182899</td>\n",
       "      <td>0.978294</td>\n",
       "      <td>0.438435</td>\n",
       "    </tr>\n",
       "  </tbody>\n",
       "</table>\n",
       "</div>"
      ],
      "text/plain": [
       "          alpha        f(x)    ||g(x)||         r         M\n",
       "0           NaN  120.650476   21.797951       NaN       NaN\n",
       "1  4.525402e-01   92.409202  126.689790  5.812005  0.266631\n",
       "2  2.139093e-09   48.126839   45.508915  0.359215  0.002835\n",
       "3  7.812548e-16   45.696399    7.200783  0.158228  0.003477\n",
       "4  4.982071e-22   45.649975    2.231332  0.309874  0.043033\n",
       "5  2.405773e-28   45.649888    2.182899  0.978294  0.438435"
      ]
     },
     "execution_count": 7,
     "metadata": {},
     "output_type": "execute_result"
    },
    {
     "data": {
      "image/png": "[encoded data removed]",
      "text/plain": [
       "<Figure size 432x288 with 1 Axes>"
      ]
     },
     "metadata": {
      "needs_background": "light"
     },
     "output_type": "display_data"
    }
   ],
   "source": [
    "train, test, ytr, yte = gen_data(123456, 500, [8], 0.5, 0.1)\n",
    "net = SLNN()\n",
    "net.cvtrain(\"BFGS\", train, ytr)\n",
    "net.summary(test, yte)"
   ]
  },
  {
   "cell_type": "markdown",
   "metadata": {},
   "source": [
    "Besides, we can use other optimization algorithms, apart from ```BFGS```, such as ```GM``` and ```CGM```:"
   ]
  },
  {
   "cell_type": "code",
   "execution_count": 17,
   "metadata": {},
   "outputs": [
    {
     "name": "stderr",
     "output_type": "stream",
     "text": [
      "/usr/local/lib/python3.7/site-packages/scipy/optimize/linesearch.py:462: LineSearchWarning: The line search algorithm did not converge\n",
      "  warn('The line search algorithm did not converge', LineSearchWarning)\n"
     ]
    },
    {
     "name": "stdout",
     "output_type": "stream",
     "text": [
      "Single Layer Neural Network (SLNN)\n",
      "---------------------------------------------------------------------------\n",
      "Input size:\t\t\t35\n",
      "Output size:\t\t\t1 (binary)\n",
      "---------------------------------------------------------------------------\n",
      "Train data:\t\t\t500 observations\n",
      "Chosen optimization routine:\tCGM\n",
      "Regularization parameter:\t0\n",
      "Loss:\t\t\t\t6.640498856902224e-05\n",
      "Training accuracy:\t\t100.0%\n",
      "Test accuracy:\t\t\t94.38%\n",
      "---------------------------------------------------------------------------\n",
      "Gradient: \n",
      " [ 1.57037960e-07 -5.15993848e-07 -2.51979707e-07 -4.09493612e-07\n",
      " -8.46613117e-08 -2.99155700e-06  4.78762156e-06  8.59580534e-08\n",
      " -9.94293613e-07 -2.93405157e-06 -1.59156194e-06  7.37128710e-07\n",
      " -2.61429570e-06 -9.84305279e-07 -3.17626172e-06  2.82194835e-07\n",
      " -4.46126255e-07 -7.75183310e-07 -1.68271266e-07  1.42375782e-07\n",
      "  3.11586100e-06  1.25755726e-07 -1.23222807e-08 -1.97652704e-06\n",
      " -5.69778867e-07  8.00403291e-07  6.90101224e-07 -9.58539365e-07\n",
      "  2.45260755e-06 -1.32194045e-06  9.76953817e-07 -1.17142817e-06\n",
      " -9.05194687e-07 -5.91698141e-08 -2.68394017e-06]\n",
      "---------------------------------------------------------------------------\n"
     ]
    },
    {
     "data": {
      "text/html": [
       "<div>\n",
       "<style scoped>\n",
       "    .dataframe tbody tr th:only-of-type {\n",
       "        vertical-align: middle;\n",
       "    }\n",
       "\n",
       "    .dataframe tbody tr th {\n",
       "        vertical-align: top;\n",
       "    }\n",
       "\n",
       "    .dataframe thead th {\n",
       "        text-align: right;\n",
       "    }\n",
       "</style>\n",
       "<table border=\"1\" class=\"dataframe\">\n",
       "  <thead>\n",
       "    <tr style=\"text-align: right;\">\n",
       "      <th></th>\n",
       "      <th>alpha</th>\n",
       "      <th>f(x)</th>\n",
       "      <th>||g(x)||</th>\n",
       "      <th>r</th>\n",
       "      <th>M</th>\n",
       "    </tr>\n",
       "  </thead>\n",
       "  <tbody>\n",
       "    <tr>\n",
       "      <th>0</th>\n",
       "      <td>NaN</td>\n",
       "      <td>125.000000</td>\n",
       "      <td>23.498640</td>\n",
       "      <td>NaN</td>\n",
       "      <td>NaN</td>\n",
       "    </tr>\n",
       "    <tr>\n",
       "      <th>1</th>\n",
       "      <td>0.012545</td>\n",
       "      <td>121.438869</td>\n",
       "      <td>69.109355</td>\n",
       "      <td>2.940994</td>\n",
       "      <td>0.125156</td>\n",
       "    </tr>\n",
       "    <tr>\n",
       "      <th>2</th>\n",
       "      <td>0.001506</td>\n",
       "      <td>118.254841</td>\n",
       "      <td>27.115333</td>\n",
       "      <td>0.392354</td>\n",
       "      <td>0.005677</td>\n",
       "    </tr>\n",
       "    <tr>\n",
       "      <th>3</th>\n",
       "      <td>0.010094</td>\n",
       "      <td>113.755561</td>\n",
       "      <td>44.911436</td>\n",
       "      <td>1.656311</td>\n",
       "      <td>0.061084</td>\n",
       "    </tr>\n",
       "    <tr>\n",
       "      <th>4</th>\n",
       "      <td>0.003360</td>\n",
       "      <td>107.232204</td>\n",
       "      <td>32.831670</td>\n",
       "      <td>0.731031</td>\n",
       "      <td>0.016277</td>\n",
       "    </tr>\n",
       "    <tr>\n",
       "      <th>323</th>\n",
       "      <td>1024.000000</td>\n",
       "      <td>0.000069</td>\n",
       "      <td>0.000024</td>\n",
       "      <td>1.664724</td>\n",
       "      <td>116745.823587</td>\n",
       "    </tr>\n",
       "    <tr>\n",
       "      <th>324</th>\n",
       "      <td>1024.000000</td>\n",
       "      <td>0.000069</td>\n",
       "      <td>0.000027</td>\n",
       "      <td>1.140533</td>\n",
       "      <td>48046.807394</td>\n",
       "    </tr>\n",
       "    <tr>\n",
       "      <th>325</th>\n",
       "      <td>1024.000000</td>\n",
       "      <td>0.000067</td>\n",
       "      <td>0.000013</td>\n",
       "      <td>0.489425</td>\n",
       "      <td>18077.360084</td>\n",
       "    </tr>\n",
       "    <tr>\n",
       "      <th>326</th>\n",
       "      <td>1024.000000</td>\n",
       "      <td>0.000067</td>\n",
       "      <td>0.000018</td>\n",
       "      <td>1.342818</td>\n",
       "      <td>101339.794657</td>\n",
       "    </tr>\n",
       "    <tr>\n",
       "      <th>327</th>\n",
       "      <td>1024.000000</td>\n",
       "      <td>0.000066</td>\n",
       "      <td>0.000010</td>\n",
       "      <td>0.556389</td>\n",
       "      <td>31269.751249</td>\n",
       "    </tr>\n",
       "  </tbody>\n",
       "</table>\n",
       "</div>"
      ],
      "text/plain": [
       "           alpha        f(x)   ||g(x)||         r              M\n",
       "0            NaN  125.000000  23.498640       NaN            NaN\n",
       "1       0.012545  121.438869  69.109355  2.940994       0.125156\n",
       "2       0.001506  118.254841  27.115333  0.392354       0.005677\n",
       "3       0.010094  113.755561  44.911436  1.656311       0.061084\n",
       "4       0.003360  107.232204  32.831670  0.731031       0.016277\n",
       "323  1024.000000    0.000069   0.000024  1.664724  116745.823587\n",
       "324  1024.000000    0.000069   0.000027  1.140533   48046.807394\n",
       "325  1024.000000    0.000067   0.000013  0.489425   18077.360084\n",
       "326  1024.000000    0.000067   0.000018  1.342818  101339.794657\n",
       "327  1024.000000    0.000066   0.000010  0.556389   31269.751249"
      ]
     },
     "execution_count": 17,
     "metadata": {},
     "output_type": "execute_result"
    },
    {
     "data": {
      "image/png": "[encoded data removed]",
      "text/plain": [
       "<Figure size 432x288 with 1 Axes>"
      ]
     },
     "metadata": {
      "needs_background": "light"
     },
     "output_type": "display_data"
    }
   ],
   "source": [
    "train, test, ytr, yte = gen_data(123456, 500, [8], 0.5, 0.1)\n",
    "net = SLNN()\n",
    "net.train(\"CGM\", train, ytr)\n",
    "gmdata = net.summary(test, yte)\n",
    "show_less(gmdata)"
   ]
  },
  {
   "cell_type": "code",
   "execution_count": 19,
   "metadata": {},
   "outputs": [
    {
     "name": "stdout",
     "output_type": "stream",
     "text": [
      "Single Layer Neural Network (SLNN)\n",
      "---------------------------------------------------------------------------\n",
      "Input size:\t\t\t35\n",
      "Output size:\t\t\t1 (binary)\n",
      "---------------------------------------------------------------------------\n",
      "Train data:\t\t\t500 observations\n",
      "Chosen optimization routine:\tCGM\n",
      "Regularization parameter:\t0\n",
      "Loss:\t\t\t\t12.003458211164963\n",
      "Training accuracy:\t\t97.6%\n",
      "Test accuracy:\t\t\t90.0%\n",
      "---------------------------------------------------------------------------\n",
      "Gradient: \n",
      " [-1.43624022e-05 -4.49355857e-05 -6.16486640e-05 -2.96962193e-05\n",
      " -2.58739228e-05 -1.30606275e-05 -1.85742374e-05 -1.42124986e-05\n",
      " -2.71353979e-05 -3.58329476e-05 -8.32541544e-05 -1.17778726e-05\n",
      " -1.96030393e-05  1.86818034e-05  2.55213752e-06 -6.09375824e-06\n",
      " -9.09656860e-05 -2.94089210e-05 -6.50026331e-05 -3.16521323e-05\n",
      " -3.25482866e-05 -1.84857861e-05 -3.07404727e-06 -2.47235743e-05\n",
      " -2.09282173e-05  2.61343958e-05  2.74189689e-05 -2.28695480e-05\n",
      " -4.69244674e-05 -4.71128391e-05  1.19051531e-05 -1.29134731e-05\n",
      "  3.34185829e-05  2.76145017e-07  5.46865146e-05]\n",
      "---------------------------------------------------------------------------\n"
     ]
    },
    {
     "data": {
      "text/html": [
       "<div>\n",
       "<style scoped>\n",
       "    .dataframe tbody tr th:only-of-type {\n",
       "        vertical-align: middle;\n",
       "    }\n",
       "\n",
       "    .dataframe tbody tr th {\n",
       "        vertical-align: top;\n",
       "    }\n",
       "\n",
       "    .dataframe thead th {\n",
       "        text-align: right;\n",
       "    }\n",
       "</style>\n",
       "<table border=\"1\" class=\"dataframe\">\n",
       "  <thead>\n",
       "    <tr style=\"text-align: right;\">\n",
       "      <th></th>\n",
       "      <th>alpha</th>\n",
       "      <th>f(x)</th>\n",
       "      <th>||g(x)||</th>\n",
       "      <th>r</th>\n",
       "      <th>M</th>\n",
       "    </tr>\n",
       "  </thead>\n",
       "  <tbody>\n",
       "    <tr>\n",
       "      <th>0</th>\n",
       "      <td>NaN</td>\n",
       "      <td>125.000000</td>\n",
       "      <td>16.509071</td>\n",
       "      <td>NaN</td>\n",
       "      <td>NaN</td>\n",
       "    </tr>\n",
       "    <tr>\n",
       "      <th>1</th>\n",
       "      <td>0.016658</td>\n",
       "      <td>122.678007</td>\n",
       "      <td>56.253205</td>\n",
       "      <td>3.407412</td>\n",
       "      <td>0.206396</td>\n",
       "    </tr>\n",
       "    <tr>\n",
       "      <th>2</th>\n",
       "      <td>0.001482</td>\n",
       "      <td>120.552235</td>\n",
       "      <td>18.619198</td>\n",
       "      <td>0.330989</td>\n",
       "      <td>0.005884</td>\n",
       "    </tr>\n",
       "    <tr>\n",
       "      <th>3</th>\n",
       "      <td>0.013853</td>\n",
       "      <td>117.976908</td>\n",
       "      <td>44.542573</td>\n",
       "      <td>2.392293</td>\n",
       "      <td>0.128485</td>\n",
       "    </tr>\n",
       "    <tr>\n",
       "      <th>4</th>\n",
       "      <td>0.008932</td>\n",
       "      <td>106.588931</td>\n",
       "      <td>79.504025</td>\n",
       "      <td>1.784900</td>\n",
       "      <td>0.040072</td>\n",
       "    </tr>\n",
       "    <tr>\n",
       "      <th>996</th>\n",
       "      <td>4.000000</td>\n",
       "      <td>12.003462</td>\n",
       "      <td>0.001122</td>\n",
       "      <td>0.468771</td>\n",
       "      <td>195.847834</td>\n",
       "    </tr>\n",
       "    <tr>\n",
       "      <th>997</th>\n",
       "      <td>2.000000</td>\n",
       "      <td>12.003459</td>\n",
       "      <td>0.000618</td>\n",
       "      <td>0.550538</td>\n",
       "      <td>490.664470</td>\n",
       "    </tr>\n",
       "    <tr>\n",
       "      <th>998</th>\n",
       "      <td>2.000000</td>\n",
       "      <td>12.003459</td>\n",
       "      <td>0.000295</td>\n",
       "      <td>0.476781</td>\n",
       "      <td>771.843378</td>\n",
       "    </tr>\n",
       "    <tr>\n",
       "      <th>999</th>\n",
       "      <td>2.000000</td>\n",
       "      <td>12.003458</td>\n",
       "      <td>0.000194</td>\n",
       "      <td>0.658399</td>\n",
       "      <td>2235.529626</td>\n",
       "    </tr>\n",
       "    <tr>\n",
       "      <th>1000</th>\n",
       "      <td>4.000000</td>\n",
       "      <td>12.003458</td>\n",
       "      <td>0.000214</td>\n",
       "      <td>1.103469</td>\n",
       "      <td>5690.663932</td>\n",
       "    </tr>\n",
       "  </tbody>\n",
       "</table>\n",
       "</div>"
      ],
      "text/plain": [
       "         alpha        f(x)   ||g(x)||         r            M\n",
       "0          NaN  125.000000  16.509071       NaN          NaN\n",
       "1     0.016658  122.678007  56.253205  3.407412     0.206396\n",
       "2     0.001482  120.552235  18.619198  0.330989     0.005884\n",
       "3     0.013853  117.976908  44.542573  2.392293     0.128485\n",
       "4     0.008932  106.588931  79.504025  1.784900     0.040072\n",
       "996   4.000000   12.003462   0.001122  0.468771   195.847834\n",
       "997   2.000000   12.003459   0.000618  0.550538   490.664470\n",
       "998   2.000000   12.003459   0.000295  0.476781   771.843378\n",
       "999   2.000000   12.003458   0.000194  0.658399  2235.529626\n",
       "1000  4.000000   12.003458   0.000214  1.103469  5690.663932"
      ]
     },
     "execution_count": 19,
     "metadata": {},
     "output_type": "execute_result"
    },
    {
     "data": {
      "image/png": "[encoded data removed]",
      "text/plain": [
       "<Figure size 432x288 with 1 Axes>"
      ]
     },
     "metadata": {
      "needs_background": "light"
     },
     "output_type": "display_data"
    }
   ],
   "source": [
    "train, test, ytr, yte = gen_data(123456, 500, [1,3,5,7,9], 0.5, 0.1)\n",
    "net = SLNN()\n",
    "net.train(\"CGM\", train, ytr)\n",
    "cgmdata = net.summary(test, yte)\n",
    "show_less(cgmdata)"
   ]
  },
  {
   "cell_type": "code",
   "execution_count": 18,
   "metadata": {},
   "outputs": [
    {
     "name": "stdout",
     "output_type": "stream",
     "text": [
      "Single Layer Neural Network (SLNN)\n",
      "---------------------------------------------------------------------------\n",
      "Input size:\t\t\t35\n",
      "Output size:\t\t\t1 (binary)\n",
      "---------------------------------------------------------------------------\n",
      "Train data:\t\t\t500 observations\n",
      "Chosen optimization routine:\tCGM\n",
      "Regularization parameter:\t0\n",
      "Loss:\t\t\t\t15.00461372148576\n",
      "Training accuracy:\t\t97.0%\n",
      "Test accuracy:\t\t\t89.9%\n",
      "---------------------------------------------------------------------------\n",
      "Gradient: \n",
      " [-4.50409846e-05 -2.90856588e-05 -2.80595714e-05 -5.34934269e-05\n",
      "  3.28454040e-05 -8.04896574e-05 -1.11952456e-05 -5.63522955e-06\n",
      " -3.03351199e-05  2.01477510e-06 -8.05472042e-05 -2.94303814e-05\n",
      " -2.12377654e-05 -7.99805921e-05  5.79609214e-07 -3.07476667e-05\n",
      " -4.19036609e-05 -5.47172754e-05  1.16011887e-06 -3.75551097e-05\n",
      " -7.62747365e-05 -6.99823417e-06  4.02261044e-05  1.47174510e-05\n",
      " -8.96052066e-05 -1.11554571e-04  1.93227736e-05 -2.88090956e-05\n",
      " -5.88618055e-06 -7.99151481e-05  3.24903712e-05 -5.18835614e-05\n",
      " -8.65750033e-05 -5.36672071e-05 -3.28017700e-05]\n",
      "---------------------------------------------------------------------------\n"
     ]
    },
    {
     "data": {
      "text/html": [
       "<div>\n",
       "<style scoped>\n",
       "    .dataframe tbody tr th:only-of-type {\n",
       "        vertical-align: middle;\n",
       "    }\n",
       "\n",
       "    .dataframe tbody tr th {\n",
       "        vertical-align: top;\n",
       "    }\n",
       "\n",
       "    .dataframe thead th {\n",
       "        text-align: right;\n",
       "    }\n",
       "</style>\n",
       "<table border=\"1\" class=\"dataframe\">\n",
       "  <thead>\n",
       "    <tr style=\"text-align: right;\">\n",
       "      <th></th>\n",
       "      <th>alpha</th>\n",
       "      <th>f(x)</th>\n",
       "      <th>||g(x)||</th>\n",
       "      <th>r</th>\n",
       "      <th>M</th>\n",
       "    </tr>\n",
       "  </thead>\n",
       "  <tbody>\n",
       "    <tr>\n",
       "      <th>0</th>\n",
       "      <td>NaN</td>\n",
       "      <td>125.000000</td>\n",
       "      <td>16.890307</td>\n",
       "      <td>NaN</td>\n",
       "      <td>NaN</td>\n",
       "    </tr>\n",
       "    <tr>\n",
       "      <th>1</th>\n",
       "      <td>0.020617</td>\n",
       "      <td>121.975666</td>\n",
       "      <td>63.957107</td>\n",
       "      <td>3.786616</td>\n",
       "      <td>0.224189</td>\n",
       "    </tr>\n",
       "    <tr>\n",
       "      <th>2</th>\n",
       "      <td>0.001493</td>\n",
       "      <td>119.289292</td>\n",
       "      <td>20.286247</td>\n",
       "      <td>0.317185</td>\n",
       "      <td>0.004959</td>\n",
       "    </tr>\n",
       "    <tr>\n",
       "      <th>3</th>\n",
       "      <td>0.009508</td>\n",
       "      <td>117.601397</td>\n",
       "      <td>42.510477</td>\n",
       "      <td>2.095532</td>\n",
       "      <td>0.103298</td>\n",
       "    </tr>\n",
       "    <tr>\n",
       "      <th>4</th>\n",
       "      <td>0.015148</td>\n",
       "      <td>103.131338</td>\n",
       "      <td>96.268760</td>\n",
       "      <td>2.264589</td>\n",
       "      <td>0.053271</td>\n",
       "    </tr>\n",
       "    <tr>\n",
       "      <th>996</th>\n",
       "      <td>2.000000</td>\n",
       "      <td>15.004618</td>\n",
       "      <td>0.001674</td>\n",
       "      <td>0.560105</td>\n",
       "      <td>187.452625</td>\n",
       "    </tr>\n",
       "    <tr>\n",
       "      <th>997</th>\n",
       "      <td>2.000000</td>\n",
       "      <td>15.004614</td>\n",
       "      <td>0.000533</td>\n",
       "      <td>0.318613</td>\n",
       "      <td>190.377341</td>\n",
       "    </tr>\n",
       "    <tr>\n",
       "      <th>998</th>\n",
       "      <td>2.000000</td>\n",
       "      <td>15.004614</td>\n",
       "      <td>0.000261</td>\n",
       "      <td>0.488899</td>\n",
       "      <td>916.871704</td>\n",
       "    </tr>\n",
       "    <tr>\n",
       "      <th>999</th>\n",
       "      <td>2.000000</td>\n",
       "      <td>15.004614</td>\n",
       "      <td>0.000215</td>\n",
       "      <td>0.825973</td>\n",
       "      <td>3168.372174</td>\n",
       "    </tr>\n",
       "    <tr>\n",
       "      <th>1000</th>\n",
       "      <td>4.000000</td>\n",
       "      <td>15.004614</td>\n",
       "      <td>0.000296</td>\n",
       "      <td>1.373518</td>\n",
       "      <td>6378.805046</td>\n",
       "    </tr>\n",
       "  </tbody>\n",
       "</table>\n",
       "</div>"
      ],
      "text/plain": [
       "         alpha        f(x)   ||g(x)||         r            M\n",
       "0          NaN  125.000000  16.890307       NaN          NaN\n",
       "1     0.020617  121.975666  63.957107  3.786616     0.224189\n",
       "2     0.001493  119.289292  20.286247  0.317185     0.004959\n",
       "3     0.009508  117.601397  42.510477  2.095532     0.103298\n",
       "4     0.015148  103.131338  96.268760  2.264589     0.053271\n",
       "996   2.000000   15.004618   0.001674  0.560105   187.452625\n",
       "997   2.000000   15.004614   0.000533  0.318613   190.377341\n",
       "998   2.000000   15.004614   0.000261  0.488899   916.871704\n",
       "999   2.000000   15.004614   0.000215  0.825973  3168.372174\n",
       "1000  4.000000   15.004614   0.000296  1.373518  6378.805046"
      ]
     },
     "execution_count": 18,
     "metadata": {},
     "output_type": "execute_result"
    },
    {
     "data": {
      "image/png": "[encoded data removed]",
      "text/plain": [
       "<Figure size 432x288 with 1 Axes>"
      ]
     },
     "metadata": {
      "needs_background": "light"
     },
     "output_type": "display_data"
    }
   ],
   "source": [
    "train, test, ytr, yte = gen_data(123456, 500, [0,2,4,6,8], 0.5, 0.1)\n",
    "net = SLNN()\n",
    "net.train(\"CGM\", train, ytr)\n",
    "cgmdata = net.summary(test, yte)\n",
    "show_less(cgmdata)"
   ]
  },
  {
   "cell_type": "markdown",
   "metadata": {},
   "source": [
    "And we can plot the gradient norm and the rates..."
   ]
  },
  {
   "cell_type": "code",
   "execution_count": 10,
   "metadata": {},
   "outputs": [
    {
     "data": {
      "image/png": "[encoded data removed]",
      "text/plain": [
       "<Figure size 432x288 with 1 Axes>"
      ]
     },
     "metadata": {
      "needs_background": "light"
     },
     "output_type": "display_data"
    }
   ],
   "source": [
    "plt.figure()\n",
    "plt.ylabel('Rate of convergence')\n",
    "plt.xlabel('k')\n",
    "plt.title('Order of convergence')\n",
    "plt.plot(gmdata['r'], label = \"GM\")\n",
    "plt.axhline(y = 1, color = 'r', linestyle = '--')\n",
    "plt.legend()\n",
    "plt.show()"
   ]
  },
  {
   "cell_type": "code",
   "execution_count": 13,
   "metadata": {},
   "outputs": [
    {
     "data": {
      "image/png": "[encoded data removed]",
      "text/plain": [
       "<Figure size 432x288 with 1 Axes>"
      ]
     },
     "metadata": {
      "needs_background": "light"
     },
     "output_type": "display_data"
    }
   ],
   "source": [
    "plt.figure()\n",
    "plt.ylabel('Rate of convergence')\n",
    "plt.xlabel('k')\n",
    "plt.title('Order of convergence')\n",
    "plt.plot(cgmdata['r'], label = \"CGM\", color = \"orange\")\n",
    "plt.axhline(y = 1, color = 'green', linestyle = '--')\n",
    "plt.legend()\n",
    "plt.show()"
   ]
  },
  {
   "cell_type": "markdown",
   "metadata": {},
   "source": [
    "And compare:"
   ]
  },
  {
   "cell_type": "code",
   "execution_count": 15,
   "metadata": {},
   "outputs": [
    {
     "data": {
      "image/png": "[encoded data removed]",
      "text/plain": [
       "<Figure size 432x288 with 1 Axes>"
      ]
     },
     "metadata": {
      "needs_background": "light"
     },
     "output_type": "display_data"
    }
   ],
   "source": [
    "plt.figure()\n",
    "plt.ylabel('Rate of convergence')\n",
    "plt.xlabel('k')\n",
    "plt.title('Order of convergence')\n",
    "plt.plot(gmdata['r'][1:110], label = \"GM\")\n",
    "plt.plot(cgmdata['r'], label = \"CGM\", color = \"orange\")\n",
    "plt.axhline(y = 1, color = 'green', linestyle = '--')\n",
    "plt.legend()\n",
    "plt.show()"
   ]
  },
  {
   "cell_type": "code",
   "execution_count": 16,
   "metadata": {},
   "outputs": [
    {
     "data": {
      "image/png": "[encoded data removed]",
      "text/plain": [
       "<Figure size 432x288 with 1 Axes>"
      ]
     },
     "metadata": {
      "needs_background": "light"
     },
     "output_type": "display_data"
    }
   ],
   "source": [
    "plt.figure()\n",
    "plt.ylabel('||g(x)||')\n",
    "plt.xlabel('k')\n",
    "plt.title('Order of convergence')\n",
    "plt.plot(gmdata['||g(x)||'], label = \"GM\")\n",
    "plt.plot(cgmdata['||g(x)||'], label = \"CGM\", color = 'orange')\n",
    "plt.legend()\n",
    "plt.show()"
   ]
  }
 ],
 "metadata": {
  "kernelspec": {
   "display_name": "Python 3",
   "language": "python",
   "name": "python3"
  },
  "language_info": {
   "codemirror_mode": {
    "name": "ipython",
    "version": 3
   },
   "file_extension": ".py",
   "mimetype": "text/x-python",
   "name": "python",
   "nbconvert_exporter": "python",
   "pygments_lexer": "ipython3",
   "version": "3.7.3"
  }
 },
 "nbformat": 4,
 "nbformat_minor": 2
}
