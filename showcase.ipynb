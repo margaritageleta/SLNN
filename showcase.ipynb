{
 "cells": [
  {
   "cell_type": "markdown",
   "metadata": {},
   "source": [
    "# Pattern recognition using SLNNs\n",
    "## Examples and more"
   ]
  },
  {
   "cell_type": "markdown",
   "metadata": {},
   "source": [
    "We can import all functions and classes from ```main```. This notebook needs to be in the same directory as the python file."
   ]
  },
  {
   "cell_type": "code",
   "execution_count": 1,
   "metadata": {},
   "outputs": [],
   "source": [
    "from main import *"
   ]
  },
  {
   "cell_type": "markdown",
   "metadata": {},
   "source": [
    "#### Add noise"
   ]
  },
  {
   "cell_type": "markdown",
   "metadata": {},
   "source": [
    "We have the vector ```nums``` available to us. We can use ```num_show``` to show any number (or any similar matrix, like the weights)."
   ]
  },
  {
   "cell_type": "code",
   "execution_count": 2,
   "metadata": {},
   "outputs": [
    {
     "data": {
      "image/png": "[encoded data removed]",
      "text/plain": [
       "<Figure size 432x288 with 1 Axes>"
      ]
     },
     "metadata": {
      "needs_background": "light"
     },
     "output_type": "display_data"
    }
   ],
   "source": [
    "num_show(nums[9])"
   ]
  },
  {
   "cell_type": "markdown",
   "metadata": {},
   "source": [
    "Adding noise is trivial with the ```add_noise``` function. We just have to specify the percentage of noise to add."
   ]
  },
  {
   "cell_type": "code",
   "execution_count": 3,
   "metadata": {},
   "outputs": [
    {
     "data": {
      "image/png": "[encoded data removed]",
      "text/plain": [
       "<Figure size 432x288 with 1 Axes>"
      ]
     },
     "metadata": {
      "needs_background": "light"
     },
     "output_type": "display_data"
    }
   ],
   "source": [
    "noisy = add_noise(nums[9], 0.05)\n",
    "num_show(noisy)"
   ]
  },
  {
   "cell_type": "markdown",
   "metadata": {},
   "source": [
    "#### Generate data"
   ]
  },
  {
   "cell_type": "markdown",
   "metadata": {},
   "source": [
    "The ```gen_data``` function generates at the same time the train and test sets, with their corresponding labels. The arguments are the seed, the number of elements in the train set, the target numbers, the training and the noise percentage."
   ]
  },
  {
   "cell_type": "code",
   "execution_count": 4,
   "metadata": {},
   "outputs": [],
   "source": [
    "train, test, ytr, yte = gen_data(123, 10, [1,2,3], 0.5, 0.1)"
   ]
  },
  {
   "cell_type": "markdown",
   "metadata": {},
   "source": [
    "The labels *ytr* and *yte* are binary numbers, telling us if the corresponding number is one of our targets or not."
   ]
  },
  {
   "cell_type": "code",
   "execution_count": 5,
   "metadata": {},
   "outputs": [
    {
     "data": {
      "text/plain": [
       "array([1.])"
      ]
     },
     "execution_count": 5,
     "metadata": {},
     "output_type": "execute_result"
    },
    {
     "data": {
      "image/png": "[encoded data removed]",
      "text/plain": [
       "<Figure size 432x288 with 1 Axes>"
      ]
     },
     "metadata": {
      "needs_background": "light"
     },
     "output_type": "display_data"
    }
   ],
   "source": [
    "num_show(train[0])\n",
    "ytr[0]"
   ]
  },
  {
   "cell_type": "markdown",
   "metadata": {},
   "source": [
    "#### SLNN"
   ]
  },
  {
   "cell_type": "markdown",
   "metadata": {},
   "source": [
    "There's a class ```SLNN``` available to us. With it, we can train a SLNN model, predict values with it, compute the accuracy...ç"
   ]
  },
  {
   "cell_type": "code",
   "execution_count": 6,
   "metadata": {},
   "outputs": [
    {
     "name": "stdout",
     "output_type": "stream",
     "text": [
      "Single Layer Neural Network (SLNN)\n",
      "---------------------------------------------------------------------------\n",
      "Input size:\t\t\t35\n",
      "Output size:\t\t\t1 (binary)\n",
      "---------------------------------------------------------------------------\n",
      "Train data:\t\t\t500 observations\n",
      "Chosen optimization routine:\tBFGS\n",
      "Regularization parameter:\t0\n",
      "Loss:\t\t\t\t118.46417176691992\n",
      "Training accuracy:\t\t83.4%\n",
      "Test accuracy:\t\t\t69.02%\n",
      "---------------------------------------------------------------------------\n",
      "Gradient: \n",
      " [ 3.34755951 -2.75027427  1.53369366 -0.0117573   4.23008194 -4.08477929\n",
      "  4.76065388  1.38514174  1.48382942 -4.20415297 -4.46852192  1.35253901\n",
      "  3.00523672  2.55073946 -3.98047919  4.06434025 -7.99155245 -5.11153683\n",
      " -2.60581008  5.0110771  -7.08286649  1.78326372  5.47111578  1.49330305\n",
      " -3.01948757 -5.54125161  2.90135054  2.10486234  1.38959657 -4.59800561\n",
      "  2.90079164 -2.12464488 -1.48855845 -0.35475382  1.73415255]\n",
      "---------------------------------------------------------------------------\n"
     ]
    },
    {
     "data": {
      "text/html": [
       "<div>\n",
       "<style scoped>\n",
       "    .dataframe tbody tr th:only-of-type {\n",
       "        vertical-align: middle;\n",
       "    }\n",
       "\n",
       "    .dataframe tbody tr th {\n",
       "        vertical-align: top;\n",
       "    }\n",
       "\n",
       "    .dataframe thead th {\n",
       "        text-align: right;\n",
       "    }\n",
       "</style>\n",
       "<table border=\"1\" class=\"dataframe\">\n",
       "  <thead>\n",
       "    <tr style=\"text-align: right;\">\n",
       "      <th></th>\n",
       "      <th>alpha</th>\n",
       "      <th>f(x)</th>\n",
       "      <th>||g(x)||</th>\n",
       "      <th>r</th>\n",
       "      <th>M</th>\n",
       "    </tr>\n",
       "  </thead>\n",
       "  <tbody>\n",
       "    <tr>\n",
       "      <th>0</th>\n",
       "      <td>NaN</td>\n",
       "      <td>125.000000</td>\n",
       "      <td>23.498640</td>\n",
       "      <td>NaN</td>\n",
       "      <td>NaN</td>\n",
       "    </tr>\n",
       "    <tr>\n",
       "      <th>1</th>\n",
       "      <td>1.254522e-02</td>\n",
       "      <td>121.438869</td>\n",
       "      <td>69.109355</td>\n",
       "      <td>2.940994</td>\n",
       "      <td>0.125156</td>\n",
       "    </tr>\n",
       "    <tr>\n",
       "      <th>2</th>\n",
       "      <td>1.019185e-09</td>\n",
       "      <td>118.630034</td>\n",
       "      <td>29.552085</td>\n",
       "      <td>0.427613</td>\n",
       "      <td>0.006187</td>\n",
       "    </tr>\n",
       "    <tr>\n",
       "      <th>3</th>\n",
       "      <td>4.751237e-16</td>\n",
       "      <td>118.464172</td>\n",
       "      <td>21.709071</td>\n",
       "      <td>0.734604</td>\n",
       "      <td>0.024858</td>\n",
       "    </tr>\n",
       "  </tbody>\n",
       "</table>\n",
       "</div>"
      ],
      "text/plain": [
       "          alpha        f(x)   ||g(x)||         r         M\n",
       "0           NaN  125.000000  23.498640       NaN       NaN\n",
       "1  1.254522e-02  121.438869  69.109355  2.940994  0.125156\n",
       "2  1.019185e-09  118.630034  29.552085  0.427613  0.006187\n",
       "3  4.751237e-16  118.464172  21.709071  0.734604  0.024858"
      ]
     },
     "execution_count": 6,
     "metadata": {},
     "output_type": "execute_result"
    },
    {
     "data": {
      "image/png": "[encoded data removed]",
      "text/plain": [
       "<Figure size 432x288 with 1 Axes>"
      ]
     },
     "metadata": {
      "needs_background": "light"
     },
     "output_type": "display_data"
    }
   ],
   "source": [
    "train, test, ytr, yte = gen_data(123456, 500, [8], 0.5, 0.1)\n",
    "net = SLNN()\n",
    "net.train(\"BFGS\", train, ytr)\n",
    "net.summary(test, yte)"
   ]
  },
  {
   "cell_type": "markdown",
   "metadata": {},
   "source": [
    "There's another method of ```SLNN``` called ```cvtrain```, which will find a regularization parameter for us (using cross-validation) and train the model with it."
   ]
  },
  {
   "cell_type": "code",
   "execution_count": 7,
   "metadata": {},
   "outputs": [
    {
     "name": "stdout",
     "output_type": "stream",
     "text": [
      "Single Layer Neural Network (SLNN)\n",
      "---------------------------------------------------------------------------\n",
      "Input size:\t\t\t35\n",
      "Output size:\t\t\t1 (binary)\n",
      "---------------------------------------------------------------------------\n",
      "Train data:\t\t\t500 observations\n",
      "Chosen optimization routine:\tBFGS\n",
      "Regularization parameter:\t0.3\n",
      "Loss:\t\t\t\t45.64988762129941\n",
      "Training accuracy:\t\t95.6%\n",
      "Test accuracy:\t\t\t90.32%\n",
      "---------------------------------------------------------------------------\n",
      "Gradient: \n",
      " [-0.17948467  0.13771914 -0.12362389  0.03798269 -0.05127049  0.13201352\n",
      "  0.29118305 -0.14038465 -0.15749186  0.26065896 -0.32562301 -0.07579167\n",
      " -0.29402269 -0.35554792  0.2716692   0.32671559 -0.0893419   0.4035869\n",
      "  0.188556    1.04683121 -0.68215907  0.05954559 -0.88975188 -0.04702216\n",
      "  0.3506315   0.20085228 -0.34674192 -0.20652523 -0.02045568  0.81186022\n",
      " -0.39467069  0.11929531  0.45355152  0.13682345 -0.17175046]\n",
      "---------------------------------------------------------------------------\n"
     ]
    },
    {
     "data": {
      "text/html": [
       "<div>\n",
       "<style scoped>\n",
       "    .dataframe tbody tr th:only-of-type {\n",
       "        vertical-align: middle;\n",
       "    }\n",
       "\n",
       "    .dataframe tbody tr th {\n",
       "        vertical-align: top;\n",
       "    }\n",
       "\n",
       "    .dataframe thead th {\n",
       "        text-align: right;\n",
       "    }\n",
       "</style>\n",
       "<table border=\"1\" class=\"dataframe\">\n",
       "  <thead>\n",
       "    <tr style=\"text-align: right;\">\n",
       "      <th></th>\n",
       "      <th>alpha</th>\n",
       "      <th>f(x)</th>\n",
       "      <th>||g(x)||</th>\n",
       "      <th>r</th>\n",
       "      <th>M</th>\n",
       "    </tr>\n",
       "  </thead>\n",
       "  <tbody>\n",
       "    <tr>\n",
       "      <th>0</th>\n",
       "      <td>NaN</td>\n",
       "      <td>120.650476</td>\n",
       "      <td>21.797951</td>\n",
       "      <td>NaN</td>\n",
       "      <td>NaN</td>\n",
       "    </tr>\n",
       "    <tr>\n",
       "      <th>1</th>\n",
       "      <td>4.525402e-01</td>\n",
       "      <td>92.409202</td>\n",
       "      <td>126.689790</td>\n",
       "      <td>5.812005</td>\n",
       "      <td>0.266631</td>\n",
       "    </tr>\n",
       "    <tr>\n",
       "      <th>2</th>\n",
       "      <td>2.139093e-09</td>\n",
       "      <td>48.126839</td>\n",
       "      <td>45.508915</td>\n",
       "      <td>0.359215</td>\n",
       "      <td>0.002835</td>\n",
       "    </tr>\n",
       "    <tr>\n",
       "      <th>3</th>\n",
       "      <td>7.812548e-16</td>\n",
       "      <td>45.696399</td>\n",
       "      <td>7.200783</td>\n",
       "      <td>0.158228</td>\n",
       "      <td>0.003477</td>\n",
       "    </tr>\n",
       "    <tr>\n",
       "      <th>4</th>\n",
       "      <td>4.982071e-22</td>\n",
       "      <td>45.649975</td>\n",
       "      <td>2.231332</td>\n",
       "      <td>0.309874</td>\n",
       "      <td>0.043033</td>\n",
       "    </tr>\n",
       "    <tr>\n",
       "      <th>5</th>\n",
       "      <td>2.405773e-28</td>\n",
       "      <td>45.649888</td>\n",
       "      <td>2.182899</td>\n",
       "      <td>0.978294</td>\n",
       "      <td>0.438435</td>\n",
       "    </tr>\n",
       "  </tbody>\n",
       "</table>\n",
       "</div>"
      ],
      "text/plain": [
       "          alpha        f(x)    ||g(x)||         r         M\n",
       "0           NaN  120.650476   21.797951       NaN       NaN\n",
       "1  4.525402e-01   92.409202  126.689790  5.812005  0.266631\n",
       "2  2.139093e-09   48.126839   45.508915  0.359215  0.002835\n",
       "3  7.812548e-16   45.696399    7.200783  0.158228  0.003477\n",
       "4  4.982071e-22   45.649975    2.231332  0.309874  0.043033\n",
       "5  2.405773e-28   45.649888    2.182899  0.978294  0.438435"
      ]
     },
     "execution_count": 7,
     "metadata": {},
     "output_type": "execute_result"
    },
    {
     "data": {
      "image/png": "[encoded data removed]",
      "text/plain": [
       "<Figure size 432x288 with 1 Axes>"
      ]
     },
     "metadata": {
      "needs_background": "light"
     },
     "output_type": "display_data"
    }
   ],
   "source": [
    "train, test, ytr, yte = gen_data(123456, 500, [8], 0.5, 0.1)\n",
    "net = SLNN()\n",
    "net.cvtrain(\"BFGS\", train, ytr)\n",
    "net.summary(test, yte)"
   ]
  },
  {
   "cell_type": "code",
   "execution_count": null,
   "metadata": {},
   "outputs": [],
   "source": []
  }
 ],
 "metadata": {
  "kernelspec": {
   "display_name": "Python 3",
   "language": "python",
   "name": "python3"
  },
  "language_info": {
   "codemirror_mode": {
    "name": "ipython",
    "version": 3
   },
   "file_extension": ".py",
   "mimetype": "text/x-python",
   "name": "python",
   "nbconvert_exporter": "python",
   "pygments_lexer": "ipython3",
   "version": "3.6.7"
  }
 },
 "nbformat": 4,
 "nbformat_minor": 2
}
