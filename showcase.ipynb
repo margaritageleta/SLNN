{
 "cells": [
  {
   "cell_type": "markdown",
   "metadata": {},
   "source": [
    "# Pattern recognition using SLNNs\n",
    "### Examples and more"
   ]
  },
  {
   "cell_type": "code",
   "execution_count": 1,
   "metadata": {},
   "outputs": [],
   "source": [
    "from main import *"
   ]
  },
  {
   "cell_type": "markdown",
   "metadata": {},
   "source": [
    "#### Add noise"
   ]
  },
  {
   "cell_type": "code",
   "execution_count": 2,
   "metadata": {},
   "outputs": [
    {
     "data": {
      "image/png": "[encoded data removed]",
      "text/plain": [
       "<Figure size 432x288 with 1 Axes>"
      ]
     },
     "metadata": {
      "needs_background": "light"
     },
     "output_type": "display_data"
    }
   ],
   "source": [
    "num_show(nums[9])"
   ]
  },
  {
   "cell_type": "code",
   "execution_count": 3,
   "metadata": {},
   "outputs": [
    {
     "data": {
      "image/png": "[encoded data removed]",
      "text/plain": [
       "<Figure size 432x288 with 1 Axes>"
      ]
     },
     "metadata": {
      "needs_background": "light"
     },
     "output_type": "display_data"
    }
   ],
   "source": [
    "noisy = add_noise(nums[9], 0.05)\n",
    "num_show(noisy)"
   ]
  },
  {
   "cell_type": "markdown",
   "metadata": {},
   "source": [
    "#### Generate data"
   ]
  },
  {
   "cell_type": "code",
   "execution_count": 4,
   "metadata": {},
   "outputs": [],
   "source": [
    "train, test, ytr, yte = gen_data(123, 10, [1,2,3], 0.5, 0.1)"
   ]
  },
  {
   "cell_type": "code",
   "execution_count": 5,
   "metadata": {},
   "outputs": [
    {
     "data": {
      "text/plain": [
       "array([1.])"
      ]
     },
     "execution_count": 5,
     "metadata": {},
     "output_type": "execute_result"
    },
    {
     "data": {
      "image/png": "[encoded data removed]",
      "text/plain": [
       "<Figure size 432x288 with 1 Axes>"
      ]
     },
     "metadata": {
      "needs_background": "light"
     },
     "output_type": "display_data"
    }
   ],
   "source": [
    "num_show(train[0])\n",
    "ytr[0]"
   ]
  },
  {
   "cell_type": "markdown",
   "metadata": {},
   "source": [
    "#### SLNN"
   ]
  },
  {
   "cell_type": "code",
   "execution_count": 6,
   "metadata": {},
   "outputs": [
    {
     "name": "stdout",
     "output_type": "stream",
     "text": [
      "Single Layer Neural Network (SLNN)\n",
      "---------------------------------------------------------------------------\n",
      "Input size:\t\t\t35\n",
      "Output size:\t\t\t1 (binary)\n",
      "---------------------------------------------------------------------------\n",
      "Train data:\t\t\t500 observations\n",
      "Chosen optimization routine:\tBFGS\n",
      "Regularization parameter:\t0\n",
      "Loss:\t\t\t\t118.1059984055998\n",
      "Training accuracy:\t\t84.4%\n",
      "Test accuracy:\t\t\t71.06%\n",
      "---------------------------------------------------------------------------\n",
      "Gradient: \n",
      " [ 3.12891277 -3.07875417  0.84002179 -0.35153353  4.5235095  -3.99597384\n",
      "  4.55255153  1.08611423  1.94618165 -4.18529443 -4.45280124  1.96185587\n",
      "  3.37583987  2.92482099 -3.5243842   4.01555449 -7.62581428 -5.1188836\n",
      " -4.01328387  3.78584589 -5.90360004  1.3071816   5.74227661  1.48927643\n",
      " -2.94814783 -4.90626761  3.32844683  1.1610722   1.31443397 -4.03717514\n",
      "  3.22949143 -1.65660754 -1.2125115  -0.12144392  1.96565559]\n",
      "---------------------------------------------------------------------------\n"
     ]
    },
    {
     "name": "stderr",
     "output_type": "stream",
     "text": [
      "/Users/ibrarmalik/.virtualenvs/ds/lib/python3.6/site-packages/scipy/optimize/linesearch.py:313: LineSearchWarning: The line search algorithm did not converge\n",
      "  warn('The line search algorithm did not converge', LineSearchWarning)\n"
     ]
    },
    {
     "data": {
      "text/html": [
       "<div>\n",
       "<style scoped>\n",
       "    .dataframe tbody tr th:only-of-type {\n",
       "        vertical-align: middle;\n",
       "    }\n",
       "\n",
       "    .dataframe tbody tr th {\n",
       "        vertical-align: top;\n",
       "    }\n",
       "\n",
       "    .dataframe thead th {\n",
       "        text-align: right;\n",
       "    }\n",
       "</style>\n",
       "<table border=\"1\" class=\"dataframe\">\n",
       "  <thead>\n",
       "    <tr style=\"text-align: right;\">\n",
       "      <th></th>\n",
       "      <th>alpha</th>\n",
       "      <th>f(x)</th>\n",
       "      <th>||g(x)||</th>\n",
       "      <th>r</th>\n",
       "      <th>M</th>\n",
       "    </tr>\n",
       "  </thead>\n",
       "  <tbody>\n",
       "    <tr>\n",
       "      <th>0</th>\n",
       "      <td>NaN</td>\n",
       "      <td>125.000000</td>\n",
       "      <td>22.724790</td>\n",
       "      <td>NaN</td>\n",
       "      <td>NaN</td>\n",
       "    </tr>\n",
       "    <tr>\n",
       "      <th>1</th>\n",
       "      <td>1.406584e-02</td>\n",
       "      <td>121.275461</td>\n",
       "      <td>70.954773</td>\n",
       "      <td>3.122351</td>\n",
       "      <td>0.137398</td>\n",
       "    </tr>\n",
       "    <tr>\n",
       "      <th>2</th>\n",
       "      <td>1.002200e-09</td>\n",
       "      <td>118.251250</td>\n",
       "      <td>28.289934</td>\n",
       "      <td>0.398704</td>\n",
       "      <td>0.005619</td>\n",
       "    </tr>\n",
       "    <tr>\n",
       "      <th>3</th>\n",
       "      <td>4.803834e-16</td>\n",
       "      <td>118.105998</td>\n",
       "      <td>20.980889</td>\n",
       "      <td>0.741638</td>\n",
       "      <td>0.026216</td>\n",
       "    </tr>\n",
       "  </tbody>\n",
       "</table>\n",
       "</div>"
      ],
      "text/plain": [
       "          alpha        f(x)   ||g(x)||         r         M\n",
       "0           NaN  125.000000  22.724790       NaN       NaN\n",
       "1  1.406584e-02  121.275461  70.954773  3.122351  0.137398\n",
       "2  1.002200e-09  118.251250  28.289934  0.398704  0.005619\n",
       "3  4.803834e-16  118.105998  20.980889  0.741638  0.026216"
      ]
     },
     "execution_count": 6,
     "metadata": {},
     "output_type": "execute_result"
    },
    {
     "data": {
      "image/png": "[encoded data removed]",
      "text/plain": [
       "<Figure size 432x288 with 1 Axes>"
      ]
     },
     "metadata": {
      "needs_background": "light"
     },
     "output_type": "display_data"
    }
   ],
   "source": [
    "train, test, ytr, yte = gen_data(123456, 500, [8], 0.5, 0.1)\n",
    "net = SLNN()\n",
    "net.train(\"BFGS\", train, ytr)\n",
    "net.summary(test, yte)"
   ]
  },
  {
   "cell_type": "code",
   "execution_count": 7,
   "metadata": {},
   "outputs": [
    {
     "name": "stdout",
     "output_type": "stream",
     "text": [
      "Single Layer Neural Network (SLNN)\n",
      "---------------------------------------------------------------------------\n",
      "Input size:\t\t\t35\n",
      "Output size:\t\t\t1 (binary)\n",
      "---------------------------------------------------------------------------\n",
      "Train data:\t\t\t500 observations\n",
      "Chosen optimization routine:\tBFGS\n",
      "Regularization parameter:\t0.3\n",
      "Loss:\t\t\t\t45.64988762129941\n",
      "Training accuracy:\t\t95.6%\n",
      "Test accuracy:\t\t\t90.32%\n",
      "---------------------------------------------------------------------------\n",
      "Gradient: \n",
      " [-0.17948467  0.13771914 -0.12362389  0.03798269 -0.05127049  0.13201352\n",
      "  0.29118305 -0.14038465 -0.15749186  0.26065896 -0.32562301 -0.07579167\n",
      " -0.29402269 -0.35554792  0.2716692   0.32671559 -0.0893419   0.4035869\n",
      "  0.188556    1.04683121 -0.68215907  0.05954559 -0.88975188 -0.04702216\n",
      "  0.3506315   0.20085228 -0.34674192 -0.20652523 -0.02045568  0.81186022\n",
      " -0.39467069  0.11929531  0.45355152  0.13682345 -0.17175046]\n",
      "---------------------------------------------------------------------------\n"
     ]
    },
    {
     "data": {
      "text/html": [
       "<div>\n",
       "<style scoped>\n",
       "    .dataframe tbody tr th:only-of-type {\n",
       "        vertical-align: middle;\n",
       "    }\n",
       "\n",
       "    .dataframe tbody tr th {\n",
       "        vertical-align: top;\n",
       "    }\n",
       "\n",
       "    .dataframe thead th {\n",
       "        text-align: right;\n",
       "    }\n",
       "</style>\n",
       "<table border=\"1\" class=\"dataframe\">\n",
       "  <thead>\n",
       "    <tr style=\"text-align: right;\">\n",
       "      <th></th>\n",
       "      <th>alpha</th>\n",
       "      <th>f(x)</th>\n",
       "      <th>||g(x)||</th>\n",
       "      <th>r</th>\n",
       "      <th>M</th>\n",
       "    </tr>\n",
       "  </thead>\n",
       "  <tbody>\n",
       "    <tr>\n",
       "      <th>0</th>\n",
       "      <td>NaN</td>\n",
       "      <td>120.650476</td>\n",
       "      <td>21.797951</td>\n",
       "      <td>NaN</td>\n",
       "      <td>NaN</td>\n",
       "    </tr>\n",
       "    <tr>\n",
       "      <th>1</th>\n",
       "      <td>4.525402e-01</td>\n",
       "      <td>92.409202</td>\n",
       "      <td>126.689790</td>\n",
       "      <td>5.812005</td>\n",
       "      <td>0.266631</td>\n",
       "    </tr>\n",
       "    <tr>\n",
       "      <th>2</th>\n",
       "      <td>2.139093e-09</td>\n",
       "      <td>48.126839</td>\n",
       "      <td>45.508915</td>\n",
       "      <td>0.359215</td>\n",
       "      <td>0.002835</td>\n",
       "    </tr>\n",
       "    <tr>\n",
       "      <th>3</th>\n",
       "      <td>7.812548e-16</td>\n",
       "      <td>45.696399</td>\n",
       "      <td>7.200783</td>\n",
       "      <td>0.158228</td>\n",
       "      <td>0.003477</td>\n",
       "    </tr>\n",
       "    <tr>\n",
       "      <th>4</th>\n",
       "      <td>4.982071e-22</td>\n",
       "      <td>45.649975</td>\n",
       "      <td>2.231332</td>\n",
       "      <td>0.309874</td>\n",
       "      <td>0.043033</td>\n",
       "    </tr>\n",
       "    <tr>\n",
       "      <th>5</th>\n",
       "      <td>2.405773e-28</td>\n",
       "      <td>45.649888</td>\n",
       "      <td>2.182899</td>\n",
       "      <td>0.978294</td>\n",
       "      <td>0.438435</td>\n",
       "    </tr>\n",
       "  </tbody>\n",
       "</table>\n",
       "</div>"
      ],
      "text/plain": [
       "          alpha        f(x)    ||g(x)||         r         M\n",
       "0           NaN  120.650476   21.797951       NaN       NaN\n",
       "1  4.525402e-01   92.409202  126.689790  5.812005  0.266631\n",
       "2  2.139093e-09   48.126839   45.508915  0.359215  0.002835\n",
       "3  7.812548e-16   45.696399    7.200783  0.158228  0.003477\n",
       "4  4.982071e-22   45.649975    2.231332  0.309874  0.043033\n",
       "5  2.405773e-28   45.649888    2.182899  0.978294  0.438435"
      ]
     },
     "execution_count": 7,
     "metadata": {},
     "output_type": "execute_result"
    },
    {
     "data": {
      "image/png": "[encoded data removed]",
      "text/plain": [
       "<Figure size 432x288 with 1 Axes>"
      ]
     },
     "metadata": {
      "needs_background": "light"
     },
     "output_type": "display_data"
    }
   ],
   "source": [
    "train, test, ytr, yte = gen_data(123456, 500, [8], 0.5, 0.1)\n",
    "net = SLNN()\n",
    "net.cvtrain(\"BFGS\", train, ytr)\n",
    "net.summary(test, yte)"
   ]
  },
  {
   "cell_type": "code",
   "execution_count": null,
   "metadata": {},
   "outputs": [],
   "source": []
  }
 ],
 "metadata": {
  "kernelspec": {
   "display_name": "Python 3",
   "language": "python",
   "name": "python3"
  },
  "language_info": {
   "codemirror_mode": {
    "name": "ipython",
    "version": 3
   },
   "file_extension": ".py",
   "mimetype": "text/x-python",
   "name": "python",
   "nbconvert_exporter": "python",
   "pygments_lexer": "ipython3",
   "version": "3.6.7"
  }
 },
 "nbformat": 4,
 "nbformat_minor": 2
}
